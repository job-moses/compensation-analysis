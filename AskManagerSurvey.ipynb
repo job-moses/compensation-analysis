{
 "cells": [
  {
   "cell_type": "markdown",
   "id": "07d73df0",
   "metadata": {
    "id": "07d73df0"
   },
   "source": [
    "# <font color = red> **Unveiling Compensation Patterns in the United States: Analysis of Ask a Manager Salary Survey 2021**</font>\n"
   ]
  },
  {
   "cell_type": "markdown",
   "id": "0823299e",
   "metadata": {
    "id": "0823299e"
   },
   "source": [
    "## Introduction\n",
    "\n",
    "In today's ever-evolving professional landscape, understanding compensation trends and patterns is essential for both employees and employers. The Ask a Manager Salary survey offers a unique opportunity to delve into real-world salary data, providing valuable insights into the complex dynamics of compensation across various industries and job roles. This analysis aim to uncover and explore  compensation patterns in United States specifically within the Ask a Manager Salary Survey 2021.\n",
    "\n",
    "By conducting an in-depth exploration of the survey data, This analysis seek to shed light on key factors influencing wages, identify potential disparities, and unveil noteworthy trends within the realm of compensation. Through a rigorous examination of several crucial questions, it aim to provide professionals, employers, and decision-makers with valuable insights to inform their salary-related decisions and foster a fair and transparent compensation landscape.\n",
    "\n",
    "<font color=orange>__Key Questions Explored__</font>\n",
    "\n",
    "1. Which industry pays the most?\n",
    "2. How does salary increase given years of professional experience?\n",
    "3. How much do salaries differ by gender and years of experience?\n",
    "4. How do  education level correlate with salary?\n",
    "5. How do salaries compare accross different states in the United States?\n",
    "\n",
    "\n",
    "By addressing these key questions, the analysis aim to gain a comprehensive understanding of compensation patterns and their underlying factors. Through detailed analyses and data-driven insights, I endeavor to contribute to the broader discourse on equitable and competitive compensation practices.\n",
    "\n",
    "It is important to note that the findings presented in this analysis are based on the Ask a Manager Salary Survey 2021 dataset, with its inherent limitations and biases. However, by leveraging the available data, we can still extract meaningful insights that can aid professionals in negotiating fair compensation, guide employers in making informed salary decisions, and drive discussions around pay equity and transparency.\n",
    "\n",
    "## About the Dataset\n",
    "The ask a manager salary survey is an annual survey filled by respondents from all over the world abot their job pay. As It’s hard to get real-world information about what jobs pay. Online salary websites are often inaccurate, and people can get weird when you ask them directly. So to take some of the mystery out of salaries, it’s the annual Ask a Manager salary survey.\n",
    "![Ask a Manager Salary Survey](https://www.askamanager.org/wp-content/uploads/2022/08/AAM-4800-x-1100-Pixels.png)\n",
    "\n",
    "The 2021 survey data is available [here](https://docs.google.com/spreadsheets/d/1IPS5dBSGtwYVbjsfbaMCYIWnOuRmJcbequohNxCyGVw/edit?resourcekey#gid=1625408792\n",
    "), if you don't mind you can also [fill](https://www.askamanager.org/2023/04/how-much-money-do-you-make-6.html\n",
    ") the survey.\n",
    "\n",
    "Now, let us embark on this exploratory journey into the Ask a Manager Salary Survey 2021 dataset and uncover the compelling compensation patterns within.\n",
    "## Analysis Steps\n",
    "The analysis will be done via the steps below"
   ]
  },
  {
   "cell_type": "markdown",
   "id": "77b3731e",
   "metadata": {
    "id": "77b3731e"
   },
   "source": [
    "## 1. Importing libraries"
   ]
  },
  {
   "cell_type": "code",
   "execution_count": 2,
   "id": "ed15aeb8",
   "metadata": {
    "id": "ed15aeb8"
   },
   "outputs": [],
   "source": [
    "# data manipulation libraries\n",
    "import pandas as pd\n",
    "import numpy as np\n",
    "\n",
    "#data visualization libraries\n",
    "import matplotlib.pyplot as plt\n",
    "import seaborn as sns"
   ]
  },
  {
   "cell_type": "markdown",
   "id": "0c6d10db",
   "metadata": {
    "id": "0c6d10db"
   },
   "source": [
    "## 2. Loading the csv file and dataset overview"
   ]
  },
  {
   "cell_type": "markdown",
   "id": "f917913f",
   "metadata": {
    "id": "f917913f"
   },
   "source": [
    "The file was downloades in csv format and is available at the directory as the jupyter notebook used for the analysis. Several changes where done to the original file that was downloaded. First the file name was rename to **AskManagerSalarySurvey**, also the column names in the original dataset consist of questions asked during the survey, the columns were renamed for easy analysis and a seperate file was created named **SurveySchema** to reference the questions asked."
   ]
  },
  {
   "cell_type": "code",
   "execution_count": 3,
   "id": "553fc5ea",
   "metadata": {
    "id": "553fc5ea"
   },
   "outputs": [],
   "source": [
    "#reading dataset from csv file from file directory\n",
    "df = pd.read_csv('AskManagerSalarySurvey.csv', encoding = 'unicode_escape')"
   ]
  },
  {
   "cell_type": "code",
   "execution_count": 4,
   "id": "afd6378e",
   "metadata": {
    "id": "afd6378e"
   },
   "outputs": [],
   "source": [
    "#reading the dataset schema\n",
    "df_schema = pd.read_csv('SurveySchema.csv', index_col = 'Column').Question"
   ]
  },
  {
   "cell_type": "markdown",
   "id": "bf32c421",
   "metadata": {
    "id": "bf32c421"
   },
   "source": [
    "**.head()**     $~~$  _check for first five rows of the dataframe_"
   ]
  },
  {
   "cell_type": "code",
   "execution_count": 5,
   "id": "c51e1482",
   "metadata": {
    "colab": {
     "base_uri": "https://localhost:8080/",
     "height": 365
    },
    "executionInfo": {
     "elapsed": 209,
     "status": "ok",
     "timestamp": 1693479108851,
     "user": {
      "displayName": "Job Moses",
      "userId": "17792471584855643413"
     },
     "user_tz": -60
    },
    "id": "c51e1482",
    "outputId": "e91f1429-1aba-4f62-c251-03cc4e08a2be"
   },
   "outputs": [
    {
     "data": {
      "text/html": [
       "<div>\n",
       "<style scoped>\n",
       "    .dataframe tbody tr th:only-of-type {\n",
       "        vertical-align: middle;\n",
       "    }\n",
       "\n",
       "    .dataframe tbody tr th {\n",
       "        vertical-align: top;\n",
       "    }\n",
       "\n",
       "    .dataframe thead th {\n",
       "        text-align: right;\n",
       "    }\n",
       "</style>\n",
       "<table border=\"1\" class=\"dataframe\">\n",
       "  <thead>\n",
       "    <tr style=\"text-align: right;\">\n",
       "      <th></th>\n",
       "      <th>age_group</th>\n",
       "      <th>industrial_sector</th>\n",
       "      <th>job_title</th>\n",
       "      <th>job_clarify</th>\n",
       "      <th>annual_salary</th>\n",
       "      <th>benefits</th>\n",
       "      <th>currency</th>\n",
       "      <th>more_info</th>\n",
       "      <th>more_context</th>\n",
       "      <th>country</th>\n",
       "      <th>state_in_us</th>\n",
       "      <th>city</th>\n",
       "      <th>years_pro</th>\n",
       "      <th>years_pro_field</th>\n",
       "      <th>education_level</th>\n",
       "      <th>gender</th>\n",
       "      <th>race</th>\n",
       "    </tr>\n",
       "  </thead>\n",
       "  <tbody>\n",
       "    <tr>\n",
       "      <th>0</th>\n",
       "      <td>25-34</td>\n",
       "      <td>Education (Higher Education)</td>\n",
       "      <td>Research and Instruction Librarian</td>\n",
       "      <td>NaN</td>\n",
       "      <td>55000</td>\n",
       "      <td>0.0</td>\n",
       "      <td>USD</td>\n",
       "      <td>NaN</td>\n",
       "      <td>NaN</td>\n",
       "      <td>United States</td>\n",
       "      <td>Massachusetts</td>\n",
       "      <td>Boston</td>\n",
       "      <td>5-7 years</td>\n",
       "      <td>5-7 years</td>\n",
       "      <td>Master's degree</td>\n",
       "      <td>Woman</td>\n",
       "      <td>White</td>\n",
       "    </tr>\n",
       "    <tr>\n",
       "      <th>1</th>\n",
       "      <td>25-34</td>\n",
       "      <td>Computing or Tech</td>\n",
       "      <td>Change &amp; Internal Communications Manager</td>\n",
       "      <td>NaN</td>\n",
       "      <td>54600</td>\n",
       "      <td>4000.0</td>\n",
       "      <td>GBP</td>\n",
       "      <td>NaN</td>\n",
       "      <td>NaN</td>\n",
       "      <td>United Kingdom</td>\n",
       "      <td>NaN</td>\n",
       "      <td>Cambridge</td>\n",
       "      <td>8 - 10 years</td>\n",
       "      <td>5-7 years</td>\n",
       "      <td>College degree</td>\n",
       "      <td>Non-binary</td>\n",
       "      <td>White</td>\n",
       "    </tr>\n",
       "    <tr>\n",
       "      <th>2</th>\n",
       "      <td>25-34</td>\n",
       "      <td>Accounting, Banking &amp; Finance</td>\n",
       "      <td>Marketing Specialist</td>\n",
       "      <td>NaN</td>\n",
       "      <td>34000</td>\n",
       "      <td>NaN</td>\n",
       "      <td>USD</td>\n",
       "      <td>NaN</td>\n",
       "      <td>NaN</td>\n",
       "      <td>US</td>\n",
       "      <td>Tennessee</td>\n",
       "      <td>Chattanooga</td>\n",
       "      <td>2 - 4 years</td>\n",
       "      <td>2 - 4 years</td>\n",
       "      <td>College degree</td>\n",
       "      <td>Woman</td>\n",
       "      <td>White</td>\n",
       "    </tr>\n",
       "    <tr>\n",
       "      <th>3</th>\n",
       "      <td>25-34</td>\n",
       "      <td>Nonprofits</td>\n",
       "      <td>Program Manager</td>\n",
       "      <td>NaN</td>\n",
       "      <td>62000</td>\n",
       "      <td>3000.0</td>\n",
       "      <td>USD</td>\n",
       "      <td>NaN</td>\n",
       "      <td>NaN</td>\n",
       "      <td>USA</td>\n",
       "      <td>Wisconsin</td>\n",
       "      <td>Milwaukee</td>\n",
       "      <td>8 - 10 years</td>\n",
       "      <td>5-7 years</td>\n",
       "      <td>College degree</td>\n",
       "      <td>Woman</td>\n",
       "      <td>White</td>\n",
       "    </tr>\n",
       "    <tr>\n",
       "      <th>4</th>\n",
       "      <td>25-34</td>\n",
       "      <td>Accounting, Banking &amp; Finance</td>\n",
       "      <td>Accounting Manager</td>\n",
       "      <td>NaN</td>\n",
       "      <td>60000</td>\n",
       "      <td>7000.0</td>\n",
       "      <td>USD</td>\n",
       "      <td>NaN</td>\n",
       "      <td>NaN</td>\n",
       "      <td>US</td>\n",
       "      <td>South Carolina</td>\n",
       "      <td>Greenville</td>\n",
       "      <td>8 - 10 years</td>\n",
       "      <td>5-7 years</td>\n",
       "      <td>College degree</td>\n",
       "      <td>Woman</td>\n",
       "      <td>White</td>\n",
       "    </tr>\n",
       "  </tbody>\n",
       "</table>\n",
       "</div>"
      ],
      "text/plain": [
       "  age_group              industrial_sector  \\\n",
       "0     25-34   Education (Higher Education)   \n",
       "1     25-34              Computing or Tech   \n",
       "2     25-34  Accounting, Banking & Finance   \n",
       "3     25-34                     Nonprofits   \n",
       "4     25-34  Accounting, Banking & Finance   \n",
       "\n",
       "                                  job_title job_clarify  annual_salary  \\\n",
       "0        Research and Instruction Librarian         NaN          55000   \n",
       "1  Change & Internal Communications Manager         NaN          54600   \n",
       "2                      Marketing Specialist         NaN          34000   \n",
       "3                           Program Manager         NaN          62000   \n",
       "4                        Accounting Manager         NaN          60000   \n",
       "\n",
       "   benefits currency more_info more_context         country     state_in_us  \\\n",
       "0       0.0      USD       NaN          NaN   United States   Massachusetts   \n",
       "1    4000.0      GBP       NaN          NaN  United Kingdom             NaN   \n",
       "2       NaN      USD       NaN          NaN              US       Tennessee   \n",
       "3    3000.0      USD       NaN          NaN             USA       Wisconsin   \n",
       "4    7000.0      USD       NaN          NaN              US  South Carolina   \n",
       "\n",
       "          city     years_pro years_pro_field  education_level      gender  \\\n",
       "0       Boston     5-7 years       5-7 years  Master's degree       Woman   \n",
       "1    Cambridge  8 - 10 years       5-7 years   College degree  Non-binary   \n",
       "2  Chattanooga   2 - 4 years     2 - 4 years   College degree       Woman   \n",
       "3    Milwaukee  8 - 10 years       5-7 years   College degree       Woman   \n",
       "4   Greenville  8 - 10 years       5-7 years   College degree       Woman   \n",
       "\n",
       "    race  \n",
       "0  White  \n",
       "1  White  \n",
       "2  White  \n",
       "3  White  \n",
       "4  White  "
      ]
     },
     "execution_count": 5,
     "metadata": {},
     "output_type": "execute_result"
    }
   ],
   "source": [
    "df.head()"
   ]
  },
  {
   "cell_type": "markdown",
   "id": "d40badda",
   "metadata": {
    "id": "d40badda"
   },
   "source": [
    "**.tail()** $~~$ *inspect last five rows*"
   ]
  },
  {
   "cell_type": "code",
   "execution_count": 6,
   "id": "0c5ea1ae",
   "metadata": {
    "colab": {
     "base_uri": "https://localhost:8080/",
     "height": 365
    },
    "executionInfo": {
     "elapsed": 217,
     "status": "ok",
     "timestamp": 1693479108862,
     "user": {
      "displayName": "Job Moses",
      "userId": "17792471584855643413"
     },
     "user_tz": -60
    },
    "id": "0c5ea1ae",
    "outputId": "9e8cda7c-35e1-48b9-afa0-23f4ad78d2a8"
   },
   "outputs": [
    {
     "data": {
      "text/html": [
       "<div>\n",
       "<style scoped>\n",
       "    .dataframe tbody tr th:only-of-type {\n",
       "        vertical-align: middle;\n",
       "    }\n",
       "\n",
       "    .dataframe tbody tr th {\n",
       "        vertical-align: top;\n",
       "    }\n",
       "\n",
       "    .dataframe thead th {\n",
       "        text-align: right;\n",
       "    }\n",
       "</style>\n",
       "<table border=\"1\" class=\"dataframe\">\n",
       "  <thead>\n",
       "    <tr style=\"text-align: right;\">\n",
       "      <th></th>\n",
       "      <th>age_group</th>\n",
       "      <th>industrial_sector</th>\n",
       "      <th>job_title</th>\n",
       "      <th>job_clarify</th>\n",
       "      <th>annual_salary</th>\n",
       "      <th>benefits</th>\n",
       "      <th>currency</th>\n",
       "      <th>more_info</th>\n",
       "      <th>more_context</th>\n",
       "      <th>country</th>\n",
       "      <th>state_in_us</th>\n",
       "      <th>city</th>\n",
       "      <th>years_pro</th>\n",
       "      <th>years_pro_field</th>\n",
       "      <th>education_level</th>\n",
       "      <th>gender</th>\n",
       "      <th>race</th>\n",
       "    </tr>\n",
       "  </thead>\n",
       "  <tbody>\n",
       "    <tr>\n",
       "      <th>27947</th>\n",
       "      <td>45-54</td>\n",
       "      <td>Computing or Tech</td>\n",
       "      <td>Technical Analyst</td>\n",
       "      <td>NaN</td>\n",
       "      <td>45109</td>\n",
       "      <td>NaN</td>\n",
       "      <td>USD</td>\n",
       "      <td>NaN</td>\n",
       "      <td>NaN</td>\n",
       "      <td>United States</td>\n",
       "      <td>Missouri</td>\n",
       "      <td>Kansas City</td>\n",
       "      <td>21 - 30 years</td>\n",
       "      <td>1 year or less</td>\n",
       "      <td>College degree</td>\n",
       "      <td>Man</td>\n",
       "      <td>Black or African American</td>\n",
       "    </tr>\n",
       "    <tr>\n",
       "      <th>27948</th>\n",
       "      <td>25-34</td>\n",
       "      <td>Recruitment or HR</td>\n",
       "      <td>HR Generalist</td>\n",
       "      <td>NaN</td>\n",
       "      <td>65000</td>\n",
       "      <td>0.0</td>\n",
       "      <td>USD</td>\n",
       "      <td>NaN</td>\n",
       "      <td>NaN</td>\n",
       "      <td>United States</td>\n",
       "      <td>New York</td>\n",
       "      <td>Buffalo</td>\n",
       "      <td>5-7 years</td>\n",
       "      <td>2 - 4 years</td>\n",
       "      <td>Master's degree</td>\n",
       "      <td>Woman</td>\n",
       "      <td>White</td>\n",
       "    </tr>\n",
       "    <tr>\n",
       "      <th>27949</th>\n",
       "      <td>25-34</td>\n",
       "      <td>Computing or Tech</td>\n",
       "      <td>Software Engineer II</td>\n",
       "      <td>NaN</td>\n",
       "      <td>116421</td>\n",
       "      <td>3000.0</td>\n",
       "      <td>USD</td>\n",
       "      <td>NaN</td>\n",
       "      <td>NaN</td>\n",
       "      <td>USA</td>\n",
       "      <td>Maryland</td>\n",
       "      <td>Bethesda</td>\n",
       "      <td>2 - 4 years</td>\n",
       "      <td>2 - 4 years</td>\n",
       "      <td>College degree</td>\n",
       "      <td>Man</td>\n",
       "      <td>White</td>\n",
       "    </tr>\n",
       "    <tr>\n",
       "      <th>27950</th>\n",
       "      <td>25-34</td>\n",
       "      <td>Marketing, Advertising &amp; PR</td>\n",
       "      <td>Marketing Assistant</td>\n",
       "      <td>NaN</td>\n",
       "      <td>24000</td>\n",
       "      <td>NaN</td>\n",
       "      <td>USD</td>\n",
       "      <td>NaN</td>\n",
       "      <td>NaN</td>\n",
       "      <td>United States</td>\n",
       "      <td>Florida</td>\n",
       "      <td>Orlando</td>\n",
       "      <td>5-7 years</td>\n",
       "      <td>5-7 years</td>\n",
       "      <td>College degree</td>\n",
       "      <td>Woman</td>\n",
       "      <td>White</td>\n",
       "    </tr>\n",
       "    <tr>\n",
       "      <th>27951</th>\n",
       "      <td>35-44</td>\n",
       "      <td>Education (Primary/Secondary)</td>\n",
       "      <td>Teacher</td>\n",
       "      <td>NaN</td>\n",
       "      <td>104000</td>\n",
       "      <td>2000.0</td>\n",
       "      <td>AUD/NZD</td>\n",
       "      <td>NaN</td>\n",
       "      <td>Band 2 (of three) of the independent schools m...</td>\n",
       "      <td>Australia</td>\n",
       "      <td>NaN</td>\n",
       "      <td>Maitland, NSW</td>\n",
       "      <td>5-7 years</td>\n",
       "      <td>5-7 years</td>\n",
       "      <td>College degree</td>\n",
       "      <td>Woman</td>\n",
       "      <td>White</td>\n",
       "    </tr>\n",
       "  </tbody>\n",
       "</table>\n",
       "</div>"
      ],
      "text/plain": [
       "      age_group              industrial_sector             job_title  \\\n",
       "27947     45-54              Computing or Tech     Technical Analyst   \n",
       "27948     25-34              Recruitment or HR         HR Generalist   \n",
       "27949     25-34              Computing or Tech  Software Engineer II   \n",
       "27950     25-34    Marketing, Advertising & PR   Marketing Assistant   \n",
       "27951     35-44  Education (Primary/Secondary)               Teacher   \n",
       "\n",
       "      job_clarify  annual_salary  benefits currency more_info  \\\n",
       "27947         NaN          45109       NaN      USD       NaN   \n",
       "27948         NaN          65000       0.0      USD       NaN   \n",
       "27949         NaN         116421    3000.0      USD       NaN   \n",
       "27950         NaN          24000       NaN      USD       NaN   \n",
       "27951         NaN         104000    2000.0  AUD/NZD       NaN   \n",
       "\n",
       "                                            more_context        country  \\\n",
       "27947                                                NaN  United States   \n",
       "27948                                                NaN  United States   \n",
       "27949                                                NaN            USA   \n",
       "27950                                                NaN  United States   \n",
       "27951  Band 2 (of three) of the independent schools m...      Australia   \n",
       "\n",
       "      state_in_us           city      years_pro years_pro_field  \\\n",
       "27947    Missouri    Kansas City  21 - 30 years  1 year or less   \n",
       "27948    New York        Buffalo      5-7 years     2 - 4 years   \n",
       "27949    Maryland       Bethesda    2 - 4 years     2 - 4 years   \n",
       "27950     Florida        Orlando      5-7 years       5-7 years   \n",
       "27951         NaN  Maitland, NSW      5-7 years       5-7 years   \n",
       "\n",
       "       education_level gender                       race  \n",
       "27947   College degree    Man  Black or African American  \n",
       "27948  Master's degree  Woman                      White  \n",
       "27949   College degree    Man                      White  \n",
       "27950   College degree  Woman                      White  \n",
       "27951   College degree  Woman                      White  "
      ]
     },
     "execution_count": 6,
     "metadata": {},
     "output_type": "execute_result"
    }
   ],
   "source": [
    "df.tail()"
   ]
  },
  {
   "cell_type": "markdown",
   "id": "09c4fe89",
   "metadata": {
    "id": "09c4fe89"
   },
   "source": [
    "**.sample()** $~~$  select 5 rows randomly to inspect"
   ]
  },
  {
   "cell_type": "code",
   "execution_count": 7,
   "id": "ad30c3db",
   "metadata": {
    "colab": {
     "base_uri": "https://localhost:8080/",
     "height": 348
    },
    "executionInfo": {
     "elapsed": 210,
     "status": "ok",
     "timestamp": 1693479108865,
     "user": {
      "displayName": "Job Moses",
      "userId": "17792471584855643413"
     },
     "user_tz": -60
    },
    "id": "ad30c3db",
    "outputId": "9b316f20-0bef-4f6d-ea4b-9ca1ee2e19de"
   },
   "outputs": [
    {
     "data": {
      "text/html": [
       "<div>\n",
       "<style scoped>\n",
       "    .dataframe tbody tr th:only-of-type {\n",
       "        vertical-align: middle;\n",
       "    }\n",
       "\n",
       "    .dataframe tbody tr th {\n",
       "        vertical-align: top;\n",
       "    }\n",
       "\n",
       "    .dataframe thead th {\n",
       "        text-align: right;\n",
       "    }\n",
       "</style>\n",
       "<table border=\"1\" class=\"dataframe\">\n",
       "  <thead>\n",
       "    <tr style=\"text-align: right;\">\n",
       "      <th></th>\n",
       "      <th>age_group</th>\n",
       "      <th>industrial_sector</th>\n",
       "      <th>job_title</th>\n",
       "      <th>job_clarify</th>\n",
       "      <th>annual_salary</th>\n",
       "      <th>benefits</th>\n",
       "      <th>currency</th>\n",
       "      <th>more_info</th>\n",
       "      <th>more_context</th>\n",
       "      <th>country</th>\n",
       "      <th>state_in_us</th>\n",
       "      <th>city</th>\n",
       "      <th>years_pro</th>\n",
       "      <th>years_pro_field</th>\n",
       "      <th>education_level</th>\n",
       "      <th>gender</th>\n",
       "      <th>race</th>\n",
       "    </tr>\n",
       "  </thead>\n",
       "  <tbody>\n",
       "    <tr>\n",
       "      <th>12783</th>\n",
       "      <td>25-34</td>\n",
       "      <td>Property or Construction</td>\n",
       "      <td>Leasing operations</td>\n",
       "      <td>NaN</td>\n",
       "      <td>46000</td>\n",
       "      <td>1100.0</td>\n",
       "      <td>USD</td>\n",
       "      <td>NaN</td>\n",
       "      <td>NaN</td>\n",
       "      <td>USA</td>\n",
       "      <td>Texas</td>\n",
       "      <td>Austin</td>\n",
       "      <td>11 - 20 years</td>\n",
       "      <td>5-7 years</td>\n",
       "      <td>College degree</td>\n",
       "      <td>Non-binary</td>\n",
       "      <td>White</td>\n",
       "    </tr>\n",
       "    <tr>\n",
       "      <th>1374</th>\n",
       "      <td>35-44</td>\n",
       "      <td>Education (Higher Education)</td>\n",
       "      <td>Lecturer</td>\n",
       "      <td>NaN</td>\n",
       "      <td>38727</td>\n",
       "      <td>0.0</td>\n",
       "      <td>GBP</td>\n",
       "      <td>NaN</td>\n",
       "      <td>NaN</td>\n",
       "      <td>UK</td>\n",
       "      <td>NaN</td>\n",
       "      <td>Birmingham</td>\n",
       "      <td>5-7 years</td>\n",
       "      <td>8 - 10 years</td>\n",
       "      <td>PhD</td>\n",
       "      <td>Woman</td>\n",
       "      <td>White</td>\n",
       "    </tr>\n",
       "    <tr>\n",
       "      <th>12401</th>\n",
       "      <td>25-34</td>\n",
       "      <td>Engineering or Manufacturing</td>\n",
       "      <td>Certification / Documentation Specialist</td>\n",
       "      <td>Medical Devices Industry</td>\n",
       "      <td>38000</td>\n",
       "      <td>2000.0</td>\n",
       "      <td>EUR</td>\n",
       "      <td>NaN</td>\n",
       "      <td>NaN</td>\n",
       "      <td>Italy</td>\n",
       "      <td>NaN</td>\n",
       "      <td>Verona</td>\n",
       "      <td>5-7 years</td>\n",
       "      <td>5-7 years</td>\n",
       "      <td>Master's degree</td>\n",
       "      <td>Woman</td>\n",
       "      <td>White</td>\n",
       "    </tr>\n",
       "    <tr>\n",
       "      <th>27643</th>\n",
       "      <td>18-24</td>\n",
       "      <td>Student</td>\n",
       "      <td>Student</td>\n",
       "      <td>NaN</td>\n",
       "      <td>18720</td>\n",
       "      <td>0.0</td>\n",
       "      <td>USD</td>\n",
       "      <td>NaN</td>\n",
       "      <td>NaN</td>\n",
       "      <td>United States</td>\n",
       "      <td>Georgia</td>\n",
       "      <td>Milledgeville</td>\n",
       "      <td>1 year or less</td>\n",
       "      <td>1 year or less</td>\n",
       "      <td>Some college</td>\n",
       "      <td>Man</td>\n",
       "      <td>White</td>\n",
       "    </tr>\n",
       "    <tr>\n",
       "      <th>21403</th>\n",
       "      <td>45-54</td>\n",
       "      <td>Media &amp; Digital</td>\n",
       "      <td>Executive Vice President</td>\n",
       "      <td>NaN</td>\n",
       "      <td>215000</td>\n",
       "      <td>80000.0</td>\n",
       "      <td>USD</td>\n",
       "      <td>NaN</td>\n",
       "      <td>NaN</td>\n",
       "      <td>United States</td>\n",
       "      <td>Minnesota</td>\n",
       "      <td>Minneapolis</td>\n",
       "      <td>21 - 30 years</td>\n",
       "      <td>21 - 30 years</td>\n",
       "      <td>Master's degree</td>\n",
       "      <td>Woman</td>\n",
       "      <td>White</td>\n",
       "    </tr>\n",
       "  </tbody>\n",
       "</table>\n",
       "</div>"
      ],
      "text/plain": [
       "      age_group             industrial_sector  \\\n",
       "12783     25-34      Property or Construction   \n",
       "1374      35-44  Education (Higher Education)   \n",
       "12401     25-34  Engineering or Manufacturing   \n",
       "27643     18-24                       Student   \n",
       "21403     45-54               Media & Digital   \n",
       "\n",
       "                                      job_title               job_clarify  \\\n",
       "12783                        Leasing operations                       NaN   \n",
       "1374                                  Lecturer                        NaN   \n",
       "12401  Certification / Documentation Specialist  Medical Devices Industry   \n",
       "27643                                   Student                       NaN   \n",
       "21403                 Executive Vice President                        NaN   \n",
       "\n",
       "       annual_salary  benefits currency more_info more_context        country  \\\n",
       "12783          46000    1100.0      USD       NaN          NaN            USA   \n",
       "1374           38727       0.0      GBP       NaN          NaN            UK    \n",
       "12401          38000    2000.0      EUR       NaN          NaN          Italy   \n",
       "27643          18720       0.0      USD       NaN          NaN  United States   \n",
       "21403         215000   80000.0      USD       NaN          NaN  United States   \n",
       "\n",
       "      state_in_us           city       years_pro years_pro_field  \\\n",
       "12783       Texas         Austin   11 - 20 years       5-7 years   \n",
       "1374          NaN    Birmingham        5-7 years    8 - 10 years   \n",
       "12401         NaN         Verona       5-7 years       5-7 years   \n",
       "27643     Georgia  Milledgeville  1 year or less  1 year or less   \n",
       "21403   Minnesota   Minneapolis    21 - 30 years   21 - 30 years   \n",
       "\n",
       "       education_level      gender   race  \n",
       "12783   College degree  Non-binary  White  \n",
       "1374               PhD       Woman  White  \n",
       "12401  Master's degree       Woman  White  \n",
       "27643     Some college         Man  White  \n",
       "21403  Master's degree       Woman  White  "
      ]
     },
     "execution_count": 7,
     "metadata": {},
     "output_type": "execute_result"
    }
   ],
   "source": [
    "df.sample(5)"
   ]
  },
  {
   "cell_type": "markdown",
   "id": "da1a7e86",
   "metadata": {
    "id": "da1a7e86"
   },
   "source": [
    "Let understand column names and the question ask"
   ]
  },
  {
   "cell_type": "code",
   "execution_count": 8,
   "id": "7990f94b",
   "metadata": {
    "colab": {
     "base_uri": "https://localhost:8080/"
    },
    "executionInfo": {
     "elapsed": 208,
     "status": "ok",
     "timestamp": 1693479108867,
     "user": {
      "displayName": "Job Moses",
      "userId": "17792471584855643413"
     },
     "user_tz": -60
    },
    "id": "7990f94b",
    "outputId": "f94a6280-5559-4eb1-e606-44ee8e41930b"
   },
   "outputs": [
    {
     "data": {
      "text/plain": [
       "Index(['age_group', 'industrial_sector', 'job_title', 'job_clarify',\n",
       "       'annual_salary', 'benefits', 'currency', 'more_info', 'more_context',\n",
       "       'country', 'state_in_us', 'city', 'years_pro', 'years_pro_field',\n",
       "       'education_level', 'gender', 'race'],\n",
       "      dtype='object')"
      ]
     },
     "execution_count": 8,
     "metadata": {},
     "output_type": "execute_result"
    }
   ],
   "source": [
    "df.columns"
   ]
  },
  {
   "cell_type": "code",
   "execution_count": 9,
   "id": "604294bd",
   "metadata": {
    "colab": {
     "base_uri": "https://localhost:8080/"
    },
    "executionInfo": {
     "elapsed": 193,
     "status": "ok",
     "timestamp": 1693479108869,
     "user": {
      "displayName": "Job Moses",
      "userId": "17792471584855643413"
     },
     "user_tz": -60
    },
    "id": "604294bd",
    "outputId": "c52aab1c-d7d2-4d09-94da-bd014baa3393"
   },
   "outputs": [
    {
     "data": {
      "text/plain": [
       "Column\n",
       "age_group                                             How old are you?\n",
       "industrial_sector                        What industry do you work in?\n",
       "job_title                                                    Job title\n",
       "job_clarify          If your job title needs additional context, pl...\n",
       "annual_salary        What is your annual salary? (You'll indicate t...\n",
       "benefits             How much additional monetary compensation do y...\n",
       "currency                                  Please indicate the currency\n",
       "more_info              If \"Other,\" please indicate the currency here: \n",
       "more_context         If your income needs additional context, pleas...\n",
       "country                                   What country do you work in?\n",
       "state_in_us          If you're in the U.S., what state do you work in?\n",
       "city                                         What city do you work in?\n",
       "years_pro            How many years of professional work experience...\n",
       "years_pro_field      How many years of professional work experience...\n",
       "education_level      What is your highest level of education comple...\n",
       "gender                                            What is your gender?\n",
       "race                       What is your race? (Choose all that apply.)\n",
       "Name: Question, dtype: object"
      ]
     },
     "execution_count": 9,
     "metadata": {},
     "output_type": "execute_result"
    }
   ],
   "source": [
    "df_schema"
   ]
  },
  {
   "cell_type": "markdown",
   "id": "8b23bebe",
   "metadata": {
    "id": "8b23bebe"
   },
   "source": [
    "**.shape** $~~$  _number of columns and  rows_"
   ]
  },
  {
   "cell_type": "code",
   "execution_count": 10,
   "id": "de832d79",
   "metadata": {
    "colab": {
     "base_uri": "https://localhost:8080/"
    },
    "executionInfo": {
     "elapsed": 183,
     "status": "ok",
     "timestamp": 1693479108870,
     "user": {
      "displayName": "Job Moses",
      "userId": "17792471584855643413"
     },
     "user_tz": -60
    },
    "id": "de832d79",
    "outputId": "46c61176-5d3f-4dbf-ae83-e70ade0a6a71"
   },
   "outputs": [
    {
     "name": "stdout",
     "output_type": "stream",
     "text": [
      "The dataset consist of 27952 rows and 17 columns\n"
     ]
    }
   ],
   "source": [
    "print(f\"The dataset consist of {df.shape[0]} rows and {df.shape[1]} columns\" )"
   ]
  },
  {
   "cell_type": "markdown",
   "id": "77aa6ed8",
   "metadata": {
    "id": "77aa6ed8"
   },
   "source": [
    "**info()** $~~$  _information about the dataset_"
   ]
  },
  {
   "cell_type": "code",
   "execution_count": 11,
   "id": "5e9416f9",
   "metadata": {
    "colab": {
     "base_uri": "https://localhost:8080/"
    },
    "executionInfo": {
     "elapsed": 178,
     "status": "ok",
     "timestamp": 1693479108879,
     "user": {
      "displayName": "Job Moses",
      "userId": "17792471584855643413"
     },
     "user_tz": -60
    },
    "id": "5e9416f9",
    "outputId": "daa55adb-b41f-443d-c6cd-632637cdf4e1"
   },
   "outputs": [
    {
     "name": "stdout",
     "output_type": "stream",
     "text": [
      "<class 'pandas.core.frame.DataFrame'>\n",
      "RangeIndex: 27952 entries, 0 to 27951\n",
      "Data columns (total 17 columns):\n",
      " #   Column             Non-Null Count  Dtype  \n",
      "---  ------             --------------  -----  \n",
      " 0   age_group          27952 non-null  object \n",
      " 1   industrial_sector  27880 non-null  object \n",
      " 2   job_title          27952 non-null  object \n",
      " 3   job_clarify        7233 non-null   object \n",
      " 4   annual_salary      27952 non-null  int64  \n",
      " 5   benefits           20694 non-null  float64\n",
      " 6   currency           27952 non-null  object \n",
      " 7   more_info          195 non-null    object \n",
      " 8   more_context       3034 non-null   object \n",
      " 9   country            27952 non-null  object \n",
      " 10  state_in_us        22969 non-null  object \n",
      " 11  city               27873 non-null  object \n",
      " 12  years_pro          27952 non-null  object \n",
      " 13  years_pro_field    27952 non-null  object \n",
      " 14  education_level    27738 non-null  object \n",
      " 15  gender             27785 non-null  object \n",
      " 16  race               27783 non-null  object \n",
      "dtypes: float64(1), int64(1), object(15)\n",
      "memory usage: 3.6+ MB\n"
     ]
    }
   ],
   "source": [
    "df.info()"
   ]
  },
  {
   "cell_type": "markdown",
   "id": "e8f03334",
   "metadata": {
    "id": "e8f03334"
   },
   "source": [
    "A total of 27952 responndent partake in the survey, the  dataset consist of three(3) datatypes float64(1), int64(1), object(15), all the columns are in there correct data types"
   ]
  },
  {
   "cell_type": "markdown",
   "id": "009ed422",
   "metadata": {
    "id": "009ed422"
   },
   "source": [
    "## 3. Selecting data for analysis and columns inspection"
   ]
  },
  {
   "cell_type": "markdown",
   "id": "3eb918a4",
   "metadata": {
    "id": "3eb918a4"
   },
   "source": [
    "since we are interested in respondents from the **United states**, let select a subset of the data to represent repondents from  the United States of America, we can achieve this by  filtering rows where `currency` is **USD**  and where  `states_in_us` not null since the latter  column is specific for those who reside in the United States"
   ]
  },
  {
   "cell_type": "code",
   "execution_count": 12,
   "id": "0f3f3e93",
   "metadata": {
    "colab": {
     "base_uri": "https://localhost:8080/"
    },
    "executionInfo": {
     "elapsed": 166,
     "status": "ok",
     "timestamp": 1693479108881,
     "user": {
      "displayName": "Job Moses",
      "userId": "17792471584855643413"
     },
     "user_tz": -60
    },
    "id": "0f3f3e93",
    "outputId": "9a4e0a96-b52a-4472-8748-9c86023ac055"
   },
   "outputs": [
    {
     "name": "stdout",
     "output_type": "stream",
     "text": [
      "If you're in the U.S., what state do you work in?\n"
     ]
    }
   ],
   "source": [
    "print(df_schema.state_in_us)"
   ]
  },
  {
   "cell_type": "code",
   "execution_count": 13,
   "id": "5d097625",
   "metadata": {
    "id": "5d097625"
   },
   "outputs": [],
   "source": [
    "df = df.loc[ (df['currency']=='USD') & (df['state_in_us'].notnull()) ] ## filter data to represent respondents from the United States of America"
   ]
  },
  {
   "cell_type": "code",
   "execution_count": 14,
   "id": "7101cd4f",
   "metadata": {
    "colab": {
     "base_uri": "https://localhost:8080/",
     "height": 365
    },
    "executionInfo": {
     "elapsed": 153,
     "status": "ok",
     "timestamp": 1693479108884,
     "user": {
      "displayName": "Job Moses",
      "userId": "17792471584855643413"
     },
     "user_tz": -60
    },
    "id": "7101cd4f",
    "outputId": "95f3121c-857b-4013-9302-69d35fffd381"
   },
   "outputs": [
    {
     "data": {
      "text/html": [
       "<div>\n",
       "<style scoped>\n",
       "    .dataframe tbody tr th:only-of-type {\n",
       "        vertical-align: middle;\n",
       "    }\n",
       "\n",
       "    .dataframe tbody tr th {\n",
       "        vertical-align: top;\n",
       "    }\n",
       "\n",
       "    .dataframe thead th {\n",
       "        text-align: right;\n",
       "    }\n",
       "</style>\n",
       "<table border=\"1\" class=\"dataframe\">\n",
       "  <thead>\n",
       "    <tr style=\"text-align: right;\">\n",
       "      <th></th>\n",
       "      <th>age_group</th>\n",
       "      <th>industrial_sector</th>\n",
       "      <th>job_title</th>\n",
       "      <th>job_clarify</th>\n",
       "      <th>annual_salary</th>\n",
       "      <th>benefits</th>\n",
       "      <th>currency</th>\n",
       "      <th>more_info</th>\n",
       "      <th>more_context</th>\n",
       "      <th>country</th>\n",
       "      <th>state_in_us</th>\n",
       "      <th>city</th>\n",
       "      <th>years_pro</th>\n",
       "      <th>years_pro_field</th>\n",
       "      <th>education_level</th>\n",
       "      <th>gender</th>\n",
       "      <th>race</th>\n",
       "    </tr>\n",
       "  </thead>\n",
       "  <tbody>\n",
       "    <tr>\n",
       "      <th>0</th>\n",
       "      <td>25-34</td>\n",
       "      <td>Education (Higher Education)</td>\n",
       "      <td>Research and Instruction Librarian</td>\n",
       "      <td>NaN</td>\n",
       "      <td>55000</td>\n",
       "      <td>0.0</td>\n",
       "      <td>USD</td>\n",
       "      <td>NaN</td>\n",
       "      <td>NaN</td>\n",
       "      <td>United States</td>\n",
       "      <td>Massachusetts</td>\n",
       "      <td>Boston</td>\n",
       "      <td>5-7 years</td>\n",
       "      <td>5-7 years</td>\n",
       "      <td>Master's degree</td>\n",
       "      <td>Woman</td>\n",
       "      <td>White</td>\n",
       "    </tr>\n",
       "    <tr>\n",
       "      <th>2</th>\n",
       "      <td>25-34</td>\n",
       "      <td>Accounting, Banking &amp; Finance</td>\n",
       "      <td>Marketing Specialist</td>\n",
       "      <td>NaN</td>\n",
       "      <td>34000</td>\n",
       "      <td>NaN</td>\n",
       "      <td>USD</td>\n",
       "      <td>NaN</td>\n",
       "      <td>NaN</td>\n",
       "      <td>US</td>\n",
       "      <td>Tennessee</td>\n",
       "      <td>Chattanooga</td>\n",
       "      <td>2 - 4 years</td>\n",
       "      <td>2 - 4 years</td>\n",
       "      <td>College degree</td>\n",
       "      <td>Woman</td>\n",
       "      <td>White</td>\n",
       "    </tr>\n",
       "    <tr>\n",
       "      <th>3</th>\n",
       "      <td>25-34</td>\n",
       "      <td>Nonprofits</td>\n",
       "      <td>Program Manager</td>\n",
       "      <td>NaN</td>\n",
       "      <td>62000</td>\n",
       "      <td>3000.0</td>\n",
       "      <td>USD</td>\n",
       "      <td>NaN</td>\n",
       "      <td>NaN</td>\n",
       "      <td>USA</td>\n",
       "      <td>Wisconsin</td>\n",
       "      <td>Milwaukee</td>\n",
       "      <td>8 - 10 years</td>\n",
       "      <td>5-7 years</td>\n",
       "      <td>College degree</td>\n",
       "      <td>Woman</td>\n",
       "      <td>White</td>\n",
       "    </tr>\n",
       "    <tr>\n",
       "      <th>4</th>\n",
       "      <td>25-34</td>\n",
       "      <td>Accounting, Banking &amp; Finance</td>\n",
       "      <td>Accounting Manager</td>\n",
       "      <td>NaN</td>\n",
       "      <td>60000</td>\n",
       "      <td>7000.0</td>\n",
       "      <td>USD</td>\n",
       "      <td>NaN</td>\n",
       "      <td>NaN</td>\n",
       "      <td>US</td>\n",
       "      <td>South Carolina</td>\n",
       "      <td>Greenville</td>\n",
       "      <td>8 - 10 years</td>\n",
       "      <td>5-7 years</td>\n",
       "      <td>College degree</td>\n",
       "      <td>Woman</td>\n",
       "      <td>White</td>\n",
       "    </tr>\n",
       "    <tr>\n",
       "      <th>5</th>\n",
       "      <td>25-34</td>\n",
       "      <td>Education (Higher Education)</td>\n",
       "      <td>Scholarly Publishing Librarian</td>\n",
       "      <td>NaN</td>\n",
       "      <td>62000</td>\n",
       "      <td>NaN</td>\n",
       "      <td>USD</td>\n",
       "      <td>NaN</td>\n",
       "      <td>NaN</td>\n",
       "      <td>USA</td>\n",
       "      <td>New Hampshire</td>\n",
       "      <td>Hanover</td>\n",
       "      <td>8 - 10 years</td>\n",
       "      <td>2 - 4 years</td>\n",
       "      <td>Master's degree</td>\n",
       "      <td>Man</td>\n",
       "      <td>White</td>\n",
       "    </tr>\n",
       "  </tbody>\n",
       "</table>\n",
       "</div>"
      ],
      "text/plain": [
       "  age_group              industrial_sector  \\\n",
       "0     25-34   Education (Higher Education)   \n",
       "2     25-34  Accounting, Banking & Finance   \n",
       "3     25-34                     Nonprofits   \n",
       "4     25-34  Accounting, Banking & Finance   \n",
       "5     25-34   Education (Higher Education)   \n",
       "\n",
       "                            job_title job_clarify  annual_salary  benefits  \\\n",
       "0  Research and Instruction Librarian         NaN          55000       0.0   \n",
       "2                Marketing Specialist         NaN          34000       NaN   \n",
       "3                     Program Manager         NaN          62000    3000.0   \n",
       "4                  Accounting Manager         NaN          60000    7000.0   \n",
       "5      Scholarly Publishing Librarian         NaN          62000       NaN   \n",
       "\n",
       "  currency more_info more_context        country     state_in_us         city  \\\n",
       "0      USD       NaN          NaN  United States   Massachusetts       Boston   \n",
       "2      USD       NaN          NaN             US       Tennessee  Chattanooga   \n",
       "3      USD       NaN          NaN            USA       Wisconsin    Milwaukee   \n",
       "4      USD       NaN          NaN             US  South Carolina   Greenville   \n",
       "5      USD       NaN          NaN            USA   New Hampshire      Hanover   \n",
       "\n",
       "      years_pro years_pro_field  education_level gender   race  \n",
       "0     5-7 years       5-7 years  Master's degree  Woman  White  \n",
       "2   2 - 4 years     2 - 4 years   College degree  Woman  White  \n",
       "3  8 - 10 years       5-7 years   College degree  Woman  White  \n",
       "4  8 - 10 years       5-7 years   College degree  Woman  White  \n",
       "5  8 - 10 years     2 - 4 years  Master's degree    Man  White  "
      ]
     },
     "execution_count": 14,
     "metadata": {},
     "output_type": "execute_result"
    }
   ],
   "source": [
    "df.head()"
   ]
  },
  {
   "cell_type": "code",
   "execution_count": 15,
   "id": "dcb56d3c",
   "metadata": {
    "colab": {
     "base_uri": "https://localhost:8080/"
    },
    "executionInfo": {
     "elapsed": 150,
     "status": "ok",
     "timestamp": 1693479108885,
     "user": {
      "displayName": "Job Moses",
      "userId": "17792471584855643413"
     },
     "user_tz": -60
    },
    "id": "dcb56d3c",
    "outputId": "486db5b2-ddad-4ba8-d14c-a139e94fdf2a"
   },
   "outputs": [
    {
     "name": "stdout",
     "output_type": "stream",
     "text": [
      "<class 'pandas.core.frame.DataFrame'>\n",
      "Index: 22943 entries, 0 to 27950\n",
      "Data columns (total 17 columns):\n",
      " #   Column             Non-Null Count  Dtype  \n",
      "---  ------             --------------  -----  \n",
      " 0   age_group          22943 non-null  object \n",
      " 1   industrial_sector  22887 non-null  object \n",
      " 2   job_title          22943 non-null  object \n",
      " 3   job_clarify        6025 non-null   object \n",
      " 4   annual_salary      22943 non-null  int64  \n",
      " 5   benefits           17216 non-null  float64\n",
      " 6   currency           22943 non-null  object \n",
      " 7   more_info          22 non-null     object \n",
      " 8   more_context       2490 non-null   object \n",
      " 9   country            22943 non-null  object \n",
      " 10  state_in_us        22943 non-null  object \n",
      " 11  city               22888 non-null  object \n",
      " 12  years_pro          22943 non-null  object \n",
      " 13  years_pro_field    22943 non-null  object \n",
      " 14  education_level    22805 non-null  object \n",
      " 15  gender             22813 non-null  object \n",
      " 16  race               22815 non-null  object \n",
      "dtypes: float64(1), int64(1), object(15)\n",
      "memory usage: 3.2+ MB\n"
     ]
    }
   ],
   "source": [
    "df.info() #information about the filtered  data"
   ]
  },
  {
   "cell_type": "markdown",
   "id": "2712820b",
   "metadata": {
    "id": "2712820b"
   },
   "source": [
    "out of **27952** responses **22943** respondents are from the United States, this implies that 82% of the total respondents are from the United State. This significant number of respondents makes the focus of the analysis justifiable."
   ]
  },
  {
   "cell_type": "code",
   "execution_count": 16,
   "id": "d6b08c08",
   "metadata": {
    "colab": {
     "base_uri": "https://localhost:8080/"
    },
    "executionInfo": {
     "elapsed": 140,
     "status": "ok",
     "timestamp": 1693479108887,
     "user": {
      "displayName": "Job Moses",
      "userId": "17792471584855643413"
     },
     "user_tz": -60
    },
    "id": "d6b08c08",
    "outputId": "a8ab765a-7dcd-4dcb-864b-dc053874c22d"
   },
   "outputs": [
    {
     "name": "stdout",
     "output_type": "stream",
     "text": [
      "The analysis dataset consist of 22943 rows and 17 columns\n"
     ]
    }
   ],
   "source": [
    "print(f\"The analysis dataset consist of {df.shape[0]} rows and {df.shape[1]} columns\" )"
   ]
  },
  {
   "cell_type": "markdown",
   "id": "4759209e",
   "metadata": {
    "id": "4759209e"
   },
   "source": [
    "**.isnull()** $~$ _check for nulls values in each columns of the dataframe_"
   ]
  },
  {
   "cell_type": "code",
   "execution_count": 17,
   "id": "968de5e9",
   "metadata": {
    "colab": {
     "base_uri": "https://localhost:8080/"
    },
    "executionInfo": {
     "elapsed": 129,
     "status": "ok",
     "timestamp": 1693479108889,
     "user": {
      "displayName": "Job Moses",
      "userId": "17792471584855643413"
     },
     "user_tz": -60
    },
    "id": "968de5e9",
    "outputId": "9542baaf-5ce2-49d7-a3d6-c558b2e39330"
   },
   "outputs": [
    {
     "data": {
      "text/plain": [
       "age_group                0\n",
       "industrial_sector       56\n",
       "job_title                0\n",
       "job_clarify          16918\n",
       "annual_salary            0\n",
       "benefits              5727\n",
       "currency                 0\n",
       "more_info            22921\n",
       "more_context         20453\n",
       "country                  0\n",
       "state_in_us              0\n",
       "city                    55\n",
       "years_pro                0\n",
       "years_pro_field          0\n",
       "education_level        138\n",
       "gender                 130\n",
       "race                   128\n",
       "dtype: int64"
      ]
     },
     "execution_count": 17,
     "metadata": {},
     "output_type": "execute_result"
    }
   ],
   "source": [
    "df.isnull().sum() #sum nulls valus in each columns"
   ]
  },
  {
   "cell_type": "markdown",
   "id": "eecfbf9d",
   "metadata": {
    "id": "eecfbf9d"
   },
   "source": [
    "**.duplicated()** $~$ _check for duplicated rows_"
   ]
  },
  {
   "cell_type": "code",
   "execution_count": 18,
   "id": "3a8a7a19",
   "metadata": {
    "colab": {
     "base_uri": "https://localhost:8080/"
    },
    "executionInfo": {
     "elapsed": 122,
     "status": "ok",
     "timestamp": 1693479108891,
     "user": {
      "displayName": "Job Moses",
      "userId": "17792471584855643413"
     },
     "user_tz": -60
    },
    "id": "3a8a7a19",
    "outputId": "8c1591ff-a293-4a35-b14a-a4baf6cf2178"
   },
   "outputs": [
    {
     "data": {
      "text/plain": [
       "True"
      ]
     },
     "execution_count": 18,
     "metadata": {},
     "output_type": "execute_result"
    }
   ],
   "source": [
    "#check  for duplicates\n",
    "df.duplicated().any()"
   ]
  },
  {
   "cell_type": "markdown",
   "id": "ac71af9b",
   "metadata": {
    "id": "ac71af9b"
   },
   "source": [
    "**.unique()** $~$ check for unique values in column of the dataframe, here i selected some columns from the data to inspect and iterate over them using the **for loop**"
   ]
  },
  {
   "cell_type": "code",
   "execution_count": 19,
   "id": "bffd677c",
   "metadata": {
    "colab": {
     "base_uri": "https://localhost:8080/"
    },
    "executionInfo": {
     "elapsed": 1339,
     "status": "ok",
     "timestamp": 1693479110117,
     "user": {
      "displayName": "Job Moses",
      "userId": "17792471584855643413"
     },
     "user_tz": -60
    },
    "id": "bffd677c",
    "outputId": "6f033cf5-4565-4cd6-ef94-b0e6deef20bf",
    "scrolled": false
   },
   "outputs": [
    {
     "name": "stdout",
     "output_type": "stream",
     "text": [
      "age_group\n",
      "['25-34' '45-54' '35-44' '18-24' '65 or over' '55-64' 'under 18']\n",
      "unique:  7 \n",
      "--------------------------------------------------\n",
      "industrial_sector\n",
      "['Education (Higher Education)' 'Accounting, Banking & Finance'\n",
      " 'Nonprofits' ... 'User Experience Design' 'Fast food'\n",
      " 'Hardware Manufacturing']\n",
      "unique:  1023 \n",
      "--------------------------------------------------\n",
      "job_title\n",
      "['Research and Instruction Librarian' 'Marketing Specialist'\n",
      " 'Program Manager' ... 'Help Desk Associate Analyst'\n",
      " 'Associate Channel Marketing Specialist' 'Technical Analyst']\n",
      "unique:  11940 \n",
      "--------------------------------------------------\n",
      "country\n",
      "['United States' 'US' 'USA' 'usa' 'U.S.' 'United States ' 'us' 'Usa'\n",
      " 'United States of America' 'United states' 'USA ' 'United states '\n",
      " 'united states' 'United States of America ' 'U.S. ' 'U.S>' 'ISA' 'US '\n",
      " 'United State' 'U.S.A' 'U.S.A.' 'America' 'united states of america' 'Us'\n",
      " 'The United States' 'United State of America' 'United Stated' 'u.s.'\n",
      " 'UNITED STATES' 'united States' 'Contracts' 'United Statws' 'U.S'\n",
      " \"We don't get raises, we get quarterly bonuses, but they periodically asses income in the area you work, so I got a raise because a 3rd party assessment showed I was paid too little for the area we were located\"\n",
      " 'Unites States ' 'Usa ' 'U.S.A. ' 'U. S. ' 'United Sates'\n",
      " 'United States of American ' 'Uniited States'\n",
      " 'Worldwide (based in US but short term trips aroudn the world)'\n",
      " 'United Sates of America'\n",
      " 'United States (I work from home and my clients are all over the US/Canada/PR'\n",
      " 'Unted States' 'United Statesp' 'United Stattes' 'United Statea'\n",
      " 'Unites States' 'United Statees' 'UNited States'\n",
      " 'I am located in Canada but I work for a company in the US'\n",
      " 'Uniyed states' 'Uniyes States' 'United States of Americas' 'U.A.'\n",
      " 'U. S.' 'US of A' 'United States of america ' 'U.SA' 'United Status'\n",
      " 'Currently finance' ' U.S.' 'UXZ' 'Virginia' 'U.s.' 'U.s.a.' 'USS'\n",
      " 'Uniteed States' 'Hartford' 'United Stares' 'I.S.' ' US' 'Unites states '\n",
      " 'Us ' 'Unite States' 'The US' 'united states '\n",
      " 'United states of America '\n",
      " 'For the United States government, but posted overseas' 'IS'\n",
      " 'From Romania, but for an US based company' 'UnitedStates'\n",
      " 'United States of america' 'United statew'\n",
      " 'bonus based on meeting yearly goals set w/ my supervisor'\n",
      " \"I earn commission on sales. If I meet quota, I'm guaranteed another 16k min. Last year i earned an additional 27k. It's not uncommon for people in my space to earn 100k+ after commission. \"\n",
      " ' United States' 'United Statues' 'Argentina' 'Untied States'\n",
      " 'USA (company is based in a US territory, I work remote)' 'USAB'\n",
      " 'Unitied States' 'United Sttes' 'Remote' 'united stated'\n",
      " 'United States Of America'\n",
      " 'I was brought in on this salary to help with the EHR and very quickly was promoted to current position but compensation was not altered. '\n",
      " 'Uniter Statez' 'U. S ' 'United states of America' 'USA tomorrow '\n",
      " 'United Stateds' 'usa ' 'San Francisco' 'Usat' '???? ' 'Unitef Stated'\n",
      " 'UA' 'United Stares ' 'United STates' 'USaa' 'uSA' 'america' 'Y'\n",
      " 'United y' 'California ' 'uS' 'USD' \"USA, but for foreign gov't\"\n",
      " 'United Statss' 'United states of america' 'UsA'\n",
      " 'I work for a UAE-based organization, though I am personally in the US.'\n",
      " 'United  States' 'na' 'United States is America' 'Zimbabwe'\n",
      " 'United States of American' 'U.S.A ']\n",
      "unique:  131 \n",
      "--------------------------------------------------\n",
      "state_in_us\n",
      "['Massachusetts' 'Tennessee' 'Wisconsin' 'South Carolina' 'New Hampshire'\n",
      " 'Arizona' 'Missouri' 'Florida' 'Pennsylvania' 'Michigan' 'Minnesota'\n",
      " 'Illinois' 'California' 'Georgia' 'Ohio' 'District of Columbia'\n",
      " 'Maryland' 'Texas' 'Virginia' 'North Carolina' 'New York' 'New Jersey'\n",
      " 'Rhode Island' 'Colorado' 'Oregon' 'Washington' 'Indiana' 'Iowa'\n",
      " 'Nebraska' 'Oklahoma' 'Maine' 'Connecticut' 'South Dakota'\n",
      " 'West Virginia' 'Idaho' 'Louisiana' 'Montana' 'Kentucky' 'North Dakota'\n",
      " 'Kansas' 'Vermont' 'Arkansas' 'Alabama' 'Nevada' 'Delaware' 'New Mexico'\n",
      " 'Hawaii' 'Utah' 'Mississippi' 'Kentucky, Ohio'\n",
      " 'District of Columbia, Virginia' 'District of Columbia, Maryland'\n",
      " 'Alaska' 'Arizona, Washington' 'Georgia, New York' 'California, Colorado'\n",
      " 'California, Oregon'\n",
      " 'District of Columbia, Maryland, Pennsylvania, Virginia'\n",
      " 'Arizona, California' 'North Carolina, Utah' 'Wyoming' 'Ohio, Wyoming'\n",
      " 'Georgia, Tennessee' 'Massachusetts, Oregon' 'Alabama, Montana'\n",
      " 'Alabama, District of Columbia' 'California, Pennsylvania'\n",
      " 'New Jersey, Pennsylvania' 'Georgia, Washington' 'Alaska, Maryland'\n",
      " 'Michigan, South Carolina' 'Massachusetts, Rhode Island'\n",
      " 'Georgia, Minnesota' 'Colorado, Nevada'\n",
      " 'Maine, Massachusetts, New Hampshire, North Carolina'\n",
      " 'Alabama, Minnesota, Nevada' 'New Jersey, New York' 'Arizona, Utah'\n",
      " 'Alabama, Kansas' 'California, Oklahoma' 'Illinois, Wisconsin'\n",
      " 'Illinois, Kentucky' 'Arizona, California, Nevada, Texas'\n",
      " 'Alaska, Idaho, Oregon, Utah, Washington' 'Massachusetts, Pennsylvania'\n",
      " 'Nevada, Oregon' 'New Jersey, Virginia' 'Montana, Wyoming'\n",
      " 'Colorado, Massachusetts' 'District of Columbia, Maryland, Virginia'\n",
      " 'Massachusetts, Vermont' 'Massachusetts, New Hampshire'\n",
      " 'Arkansas, Iowa, Massachusetts, Ohio, Wyoming' 'New York, Texas'\n",
      " 'California, Montana' 'Iowa, Utah, Vermont' 'Texas, Virginia'\n",
      " 'Utah, Vermont' 'Arkansas, Illinois' 'Georgia, Massachusetts'\n",
      " 'Maryland, Virginia' 'Florida, Georgia, South Carolina'\n",
      " 'Arkansas, Idaho, Kansas, Louisiana, Michigan, Mississippi, Nevada, New York, South Carolina, Tennessee, Washington'\n",
      " 'California, Texas' 'Indiana, Ohio' 'Ohio, Washington' 'Kansas, Missouri'\n",
      " 'Colorado, Illinois' 'Arizona, Hawaii, Illinois, Michigan, Utah, Wyoming'\n",
      " 'California, New Jersey' 'Louisiana, Washington' 'Maryland, New York'\n",
      " 'District of Columbia, Washington' 'Delaware, Pennsylvania'\n",
      " 'Illinois, North Carolina' 'Indiana, Massachusetts'\n",
      " 'Florida, New Hampshire, Wisconsin' 'Pennsylvania, Rhode Island'\n",
      " 'New York, Oregon, Vermont' 'Iowa, Nebraska' 'California, New York'\n",
      " 'Arizona, New York'\n",
      " 'California, District of Columbia, Illinois, Iowa, Maryland, Minnesota'\n",
      " 'Oregon, Washington' 'New York, Virginia' 'Mississippi, Missouri'\n",
      " 'California, Maryland'\n",
      " 'California, Illinois, Massachusetts, North Carolina, South Carolina, Virginia'\n",
      " 'Alabama, California' 'Michigan, Texas, Washington' 'Alabama, Oregon']\n",
      "unique:  131 \n",
      "--------------------------------------------------\n",
      "currency\n",
      "['USD']\n",
      "unique:  1 \n",
      "--------------------------------------------------\n",
      "years_pro\n",
      "['5-7 years' '2 - 4 years' '8 - 10 years' '21 - 30 years' '11 - 20 years'\n",
      " '41 years or more' '31 - 40 years' '1 year or less']\n",
      "unique:  8 \n",
      "--------------------------------------------------\n",
      "years_pro_field\n",
      "['5-7 years' '2 - 4 years' '21 - 30 years' '11 - 20 years' '8 - 10 years'\n",
      " '1 year or less' '31 - 40 years' '41 years or more']\n",
      "unique:  8 \n",
      "--------------------------------------------------\n",
      "education_level\n",
      "[\"Master's degree\" 'College degree' 'PhD' nan 'Some college' 'High School'\n",
      " 'Professional degree (MD, JD, etc.)']\n",
      "unique:  6 \n",
      "--------------------------------------------------\n",
      "gender\n",
      "['Woman' 'Man' 'Non-binary' 'Other or prefer not to answer' nan\n",
      " 'Prefer not to answer']\n",
      "unique:  5 \n",
      "--------------------------------------------------\n",
      "race\n",
      "['White' 'Hispanic, Latino, or Spanish origin, White'\n",
      " 'Asian or Asian American, White' 'Asian or Asian American'\n",
      " 'Another option not listed here or prefer not to answer'\n",
      " 'Hispanic, Latino, or Spanish origin'\n",
      " 'Middle Eastern or Northern African'\n",
      " 'Hispanic, Latino, or Spanish origin, Middle Eastern or Northern African, White'\n",
      " 'Black or African American' 'Black or African American, White' nan\n",
      " 'Black or African American, Hispanic, Latino, or Spanish origin, White'\n",
      " 'Native American or Alaska Native'\n",
      " 'Native American or Alaska Native, White'\n",
      " 'Hispanic, Latino, or Spanish origin, Another option not listed here or prefer not to answer'\n",
      " 'Black or African American, Middle Eastern or Northern African, Native American or Alaska Native, White'\n",
      " 'White, Another option not listed here or prefer not to answer'\n",
      " 'Black or African American, Native American or Alaska Native, White'\n",
      " 'Asian or Asian American, Another option not listed here or prefer not to answer'\n",
      " 'Middle Eastern or Northern African, White'\n",
      " 'Black or African American, Hispanic, Latino, or Spanish origin'\n",
      " 'Asian or Asian American, Black or African American'\n",
      " 'Asian or Asian American, Hispanic, Latino, or Spanish origin'\n",
      " 'Asian or Asian American, Native American or Alaska Native, White'\n",
      " 'Hispanic, Latino, or Spanish origin, Native American or Alaska Native'\n",
      " 'Black or African American, Middle Eastern or Northern African, White'\n",
      " 'Black or African American, Hispanic, Latino, or Spanish origin, Native American or Alaska Native, White'\n",
      " 'Black or African American, Another option not listed here or prefer not to answer'\n",
      " 'Asian or Asian American, Black or African American, White'\n",
      " 'Asian or Asian American, Middle Eastern or Northern African'\n",
      " 'Asian or Asian American, Hispanic, Latino, or Spanish origin, Native American or Alaska Native, White'\n",
      " 'Asian or Asian American, Hispanic, Latino, or Spanish origin, White'\n",
      " 'Hispanic, Latino, or Spanish origin, Native American or Alaska Native, White'\n",
      " 'Hispanic, Latino, or Spanish origin, White, Another option not listed here or prefer not to answer'\n",
      " 'Asian or Asian American, Black or African American, Hispanic, Latino, or Spanish origin'\n",
      " 'Asian or Asian American, White, Another option not listed here or prefer not to answer'\n",
      " 'Asian or Asian American, Black or African American, Native American or Alaska Native, White'\n",
      " 'Middle Eastern or Northern African, Native American or Alaska Native, White'\n",
      " 'Asian or Asian American, Middle Eastern or Northern African, White'\n",
      " 'Black or African American, Middle Eastern or Northern African'\n",
      " 'Middle Eastern or Northern African, White, Another option not listed here or prefer not to answer'\n",
      " 'Hispanic, Latino, or Spanish origin, Native American or Alaska Native, Another option not listed here or prefer not to answer'\n",
      " 'Asian or Asian American, Native American or Alaska Native'\n",
      " 'Asian or Asian American, Hispanic, Latino, or Spanish origin, Another option not listed here or prefer not to answer'\n",
      " 'Hispanic, Latino, or Spanish origin, Middle Eastern or Northern African'\n",
      " 'Asian or Asian American, Hispanic, Latino, or Spanish origin, White, Another option not listed here or prefer not to answer']\n",
      "unique:  45 \n",
      "--------------------------------------------------\n"
     ]
    }
   ],
   "source": [
    "for col in df[['age_group','industrial_sector','job_title', 'country','state_in_us','currency','years_pro', 'years_pro_field', 'education_level','gender', 'race' ]]:\n",
    "    print(col)\n",
    "    print(df[col].unique())\n",
    "    print(f\"unique:  {df[col].nunique()} \")\n",
    "    print('-'*50)"
   ]
  },
  {
   "cell_type": "markdown",
   "id": "bc37883a",
   "metadata": {
    "id": "bc37883a"
   },
   "source": [
    "as we can see some of the columns need cleaning , such as missing values and incorect or inconsistents inputs by respondents"
   ]
  },
  {
   "cell_type": "markdown",
   "id": "7a79a7fc",
   "metadata": {
    "id": "7a79a7fc"
   },
   "source": [
    "## 4. Data cleaning and Preprocessing"
   ]
  },
  {
   "cell_type": "markdown",
   "id": "0c216d4d",
   "metadata": {
    "id": "0c216d4d"
   },
   "source": [
    "### Handling Missing and Duplicate values"
   ]
  },
  {
   "cell_type": "markdown",
   "id": "c2f42dba",
   "metadata": {
    "id": "c2f42dba"
   },
   "source": [
    "**Drop duplicates rows**"
   ]
  },
  {
   "cell_type": "code",
   "execution_count": 20,
   "id": "09473ed9",
   "metadata": {
    "id": "09473ed9"
   },
   "outputs": [],
   "source": [
    "df.drop_duplicates(inplace = True)"
   ]
  },
  {
   "cell_type": "markdown",
   "id": "36cd50fb",
   "metadata": {
    "id": "36cd50fb"
   },
   "source": [
    "**Missing values**"
   ]
  },
  {
   "cell_type": "code",
   "execution_count": 21,
   "id": "aa88b149",
   "metadata": {
    "colab": {
     "base_uri": "https://localhost:8080/"
    },
    "executionInfo": {
     "elapsed": 260,
     "status": "ok",
     "timestamp": 1693479110121,
     "user": {
      "displayName": "Job Moses",
      "userId": "17792471584855643413"
     },
     "user_tz": -60
    },
    "id": "aa88b149",
    "outputId": "f663ff62-1b6d-4986-92b0-a21a5ede0ded"
   },
   "outputs": [
    {
     "data": {
      "text/plain": [
       "age_group                0\n",
       "industrial_sector       56\n",
       "job_title                0\n",
       "job_clarify          16821\n",
       "annual_salary            0\n",
       "benefits              5688\n",
       "currency                 0\n",
       "more_info            22787\n",
       "more_context         20331\n",
       "country                  0\n",
       "state_in_us              0\n",
       "city                    55\n",
       "years_pro                0\n",
       "years_pro_field          0\n",
       "education_level        135\n",
       "gender                 129\n",
       "race                   126\n",
       "dtype: int64"
      ]
     },
     "execution_count": 21,
     "metadata": {},
     "output_type": "execute_result"
    }
   ],
   "source": [
    "df.isnull().sum()"
   ]
  },
  {
   "cell_type": "markdown",
   "id": "ade6ea28",
   "metadata": {
    "id": "ade6ea28"
   },
   "source": [
    "since the number of nulls in the columns that are significant for our analysis are not much i decides to drop the nulls in this columns"
   ]
  },
  {
   "cell_type": "code",
   "execution_count": 22,
   "id": "80cb0327",
   "metadata": {
    "id": "80cb0327"
   },
   "outputs": [],
   "source": [
    "df.dropna(subset =['industrial_sector','education_level','gender','race'], inplace = True)"
   ]
  },
  {
   "cell_type": "code",
   "execution_count": 23,
   "id": "a132a898",
   "metadata": {
    "colab": {
     "base_uri": "https://localhost:8080/"
    },
    "executionInfo": {
     "elapsed": 230,
     "status": "ok",
     "timestamp": 1693479110127,
     "user": {
      "displayName": "Job Moses",
      "userId": "17792471584855643413"
     },
     "user_tz": -60
    },
    "id": "a132a898",
    "outputId": "f191a331-fbc2-45f6-ad6f-dfbdcb1c9dac"
   },
   "outputs": [
    {
     "data": {
      "text/plain": [
       "age_group                0\n",
       "industrial_sector        0\n",
       "job_title                0\n",
       "job_clarify          16515\n",
       "annual_salary            0\n",
       "benefits              5548\n",
       "currency                 0\n",
       "more_info            22409\n",
       "more_context         19979\n",
       "country                  0\n",
       "state_in_us              0\n",
       "city                    54\n",
       "years_pro                0\n",
       "years_pro_field          0\n",
       "education_level          0\n",
       "gender                   0\n",
       "race                     0\n",
       "dtype: int64"
      ]
     },
     "execution_count": 23,
     "metadata": {},
     "output_type": "execute_result"
    }
   ],
   "source": [
    "df.isnull().sum()"
   ]
  },
  {
   "cell_type": "markdown",
   "id": "a8e46766",
   "metadata": {
    "id": "a8e46766"
   },
   "source": [
    "The null values in the rest of the column will be left since we requre litte or no information from them"
   ]
  },
  {
   "cell_type": "markdown",
   "id": "e5f4d780",
   "metadata": {
    "id": "e5f4d780"
   },
   "source": [
    "### Cleaning `country` column"
   ]
  },
  {
   "cell_type": "code",
   "execution_count": 24,
   "id": "d5488224",
   "metadata": {
    "colab": {
     "base_uri": "https://localhost:8080/"
    },
    "executionInfo": {
     "elapsed": 218,
     "status": "ok",
     "timestamp": 1693479110129,
     "user": {
      "displayName": "Job Moses",
      "userId": "17792471584855643413"
     },
     "user_tz": -60
    },
    "id": "d5488224",
    "outputId": "42bf80d7-7274-4b6e-bd6a-1ce0c34a1322"
   },
   "outputs": [
    {
     "data": {
      "text/plain": [
       "array(['United States', 'US', 'USA', 'usa', 'U.S.', 'United States ',\n",
       "       'us', 'Usa', 'United States of America', 'United states', 'USA ',\n",
       "       'United states ', 'united states', 'United States of America ',\n",
       "       'U.S. ', 'U.S>', 'ISA', 'US ', 'United State', 'U.S.A', 'U.S.A.',\n",
       "       'America', 'united states of america', 'Us', 'The United States',\n",
       "       'United State of America', 'United Stated', 'u.s.',\n",
       "       'UNITED STATES', 'united States', 'Contracts', 'United Statws',\n",
       "       'U.S',\n",
       "       \"We don't get raises, we get quarterly bonuses, but they periodically asses income in the area you work, so I got a raise because a 3rd party assessment showed I was paid too little for the area we were located\",\n",
       "       'Unites States ', 'Usa ', 'U.S.A. ', 'U. S. ', 'United Sates',\n",
       "       'United States of American ', 'Uniited States',\n",
       "       'Worldwide (based in US but short term trips aroudn the world)',\n",
       "       'United Sates of America',\n",
       "       'United States (I work from home and my clients are all over the US/Canada/PR',\n",
       "       'Unted States', 'United Statesp', 'United Stattes',\n",
       "       'United Statea', 'Unites States', 'United Statees',\n",
       "       'I am located in Canada but I work for a company in the US',\n",
       "       'Uniyed states', 'Uniyes States', 'United States of Americas',\n",
       "       'U.A.', 'U. S.', 'US of A', 'United States of america ', 'U.SA',\n",
       "       'United Status', 'Currently finance', ' U.S.', 'UXZ', 'Virginia',\n",
       "       'U.s.', 'U.s.a.', 'USS', 'Uniteed States', 'Hartford',\n",
       "       'United Stares', 'I.S.', ' US', 'Unites states ', 'Us ',\n",
       "       'Unite States', 'The US', 'united states ',\n",
       "       'United states of America ',\n",
       "       'For the United States government, but posted overseas', 'IS',\n",
       "       'From Romania, but for an US based company', 'UnitedStates',\n",
       "       'United States of america', 'United statew',\n",
       "       \"I earn commission on sales. If I meet quota, I'm guaranteed another 16k min. Last year i earned an additional 27k. It's not uncommon for people in my space to earn 100k+ after commission. \",\n",
       "       ' United States', 'United Statues', 'Argentina', 'Untied States',\n",
       "       'USAB', 'Unitied States', 'United Sttes', 'Remote',\n",
       "       'united stated', 'United States Of America',\n",
       "       'I was brought in on this salary to help with the EHR and very quickly was promoted to current position but compensation was not altered. ',\n",
       "       'Uniter Statez', 'U. S ', 'United states of America',\n",
       "       'USA tomorrow ', 'United Stateds', 'usa ', 'San Francisco', 'Usat',\n",
       "       '???? ', 'Unitef Stated', 'UA', 'United Stares ', 'United STates',\n",
       "       'USaa', 'uSA', 'america', 'Y', 'United y', 'California ', 'uS',\n",
       "       'USD', \"USA, but for foreign gov't\", 'United Statss',\n",
       "       'United states of america', 'UsA',\n",
       "       'I work for a UAE-based organization, though I am personally in the US.',\n",
       "       'United  States', 'na', 'United States is America', 'Zimbabwe',\n",
       "       'United States of American', 'U.S.A '], dtype=object)"
      ]
     },
     "execution_count": 24,
     "metadata": {},
     "output_type": "execute_result"
    }
   ],
   "source": [
    "df['country'].unique()"
   ]
  },
  {
   "cell_type": "code",
   "execution_count": 25,
   "id": "3a414f99",
   "metadata": {
    "id": "3a414f99"
   },
   "outputs": [],
   "source": [
    "df['country'] = 'United States'"
   ]
  },
  {
   "cell_type": "code",
   "execution_count": 26,
   "id": "a430243c",
   "metadata": {
    "colab": {
     "base_uri": "https://localhost:8080/"
    },
    "executionInfo": {
     "elapsed": 209,
     "status": "ok",
     "timestamp": 1693479110133,
     "user": {
      "displayName": "Job Moses",
      "userId": "17792471584855643413"
     },
     "user_tz": -60
    },
    "id": "a430243c",
    "outputId": "5141f60e-ed7a-4368-e4f1-1f4adda06190"
   },
   "outputs": [
    {
     "data": {
      "text/plain": [
       "array(['United States'], dtype=object)"
      ]
     },
     "execution_count": 26,
     "metadata": {},
     "output_type": "execute_result"
    }
   ],
   "source": [
    "df['country'].unique()"
   ]
  },
  {
   "cell_type": "markdown",
   "id": "a7f49107",
   "metadata": {
    "id": "a7f49107"
   },
   "source": [
    "### Cleaning `race` column"
   ]
  },
  {
   "cell_type": "markdown",
   "id": "4ddc751a",
   "metadata": {
    "id": "4ddc751a"
   },
   "source": [
    "The race column wll be cleaned spliting by delimiter using `.split()` function and the first index of the race selected by responents  will be used in this analysis"
   ]
  },
  {
   "cell_type": "code",
   "execution_count": 27,
   "id": "291d9bf4",
   "metadata": {
    "id": "291d9bf4"
   },
   "outputs": [],
   "source": [
    "# spliting by comma and selecting first\n",
    "df['race']  = df['race'].str.split(',', expand = True)[0]"
   ]
  },
  {
   "cell_type": "code",
   "execution_count": 28,
   "id": "bac2787e",
   "metadata": {
    "colab": {
     "base_uri": "https://localhost:8080/"
    },
    "executionInfo": {
     "elapsed": 165,
     "status": "ok",
     "timestamp": 1693479110141,
     "user": {
      "displayName": "Job Moses",
      "userId": "17792471584855643413"
     },
     "user_tz": -60
    },
    "id": "bac2787e",
    "outputId": "44f34706-3325-407c-8ba8-31e8ecb62b57"
   },
   "outputs": [
    {
     "data": {
      "text/plain": [
       "array(['White', 'Hispanic', 'Asian or Asian American',\n",
       "       'Another option not listed here or prefer not to answer',\n",
       "       'Middle Eastern or Northern African', 'Black or African American',\n",
       "       'Native American or Alaska Native'], dtype=object)"
      ]
     },
     "execution_count": 28,
     "metadata": {},
     "output_type": "execute_result"
    }
   ],
   "source": [
    "df['race'].unique()"
   ]
  },
  {
   "cell_type": "markdown",
   "id": "07ced611",
   "metadata": {
    "id": "07ced611"
   },
   "source": [
    "### Cleaning `state_in_us` column"
   ]
  },
  {
   "cell_type": "code",
   "execution_count": 29,
   "id": "2c385ad1",
   "metadata": {
    "colab": {
     "base_uri": "https://localhost:8080/"
    },
    "executionInfo": {
     "elapsed": 157,
     "status": "ok",
     "timestamp": 1693479110143,
     "user": {
      "displayName": "Job Moses",
      "userId": "17792471584855643413"
     },
     "user_tz": -60
    },
    "id": "2c385ad1",
    "outputId": "14ee5248-68bd-4906-93ef-48804bcf2c54"
   },
   "outputs": [
    {
     "data": {
      "text/plain": [
       "array(['Massachusetts', 'Tennessee', 'Wisconsin', 'South Carolina',\n",
       "       'New Hampshire', 'Arizona', 'Missouri', 'Florida', 'Pennsylvania',\n",
       "       'Michigan', 'Illinois', 'California', 'Georgia', 'Ohio',\n",
       "       'District of Columbia', 'Maryland', 'Texas', 'Minnesota',\n",
       "       'Virginia', 'North Carolina', 'New York', 'New Jersey',\n",
       "       'Rhode Island', 'Colorado', 'Oregon', 'Washington', 'Indiana',\n",
       "       'Iowa', 'Nebraska', 'Oklahoma', 'Maine', 'Connecticut',\n",
       "       'South Dakota', 'West Virginia', 'Idaho', 'Louisiana', 'Montana',\n",
       "       'Kentucky', 'North Dakota', 'Kansas', 'Vermont', 'Arkansas',\n",
       "       'Alabama', 'Nevada', 'Delaware', 'New Mexico', 'Hawaii', 'Utah',\n",
       "       'Mississippi', 'Kentucky, Ohio', 'District of Columbia, Virginia',\n",
       "       'District of Columbia, Maryland', 'Alaska', 'Arizona, Washington',\n",
       "       'Georgia, New York', 'California, Colorado', 'California, Oregon',\n",
       "       'District of Columbia, Maryland, Pennsylvania, Virginia',\n",
       "       'Arizona, California', 'North Carolina, Utah', 'Wyoming',\n",
       "       'Ohio, Wyoming', 'Georgia, Tennessee', 'Massachusetts, Oregon',\n",
       "       'Alabama, Montana', 'Alabama, District of Columbia',\n",
       "       'California, Pennsylvania', 'New Jersey, Pennsylvania',\n",
       "       'Georgia, Washington', 'Alaska, Maryland',\n",
       "       'Michigan, South Carolina', 'Massachusetts, Rhode Island',\n",
       "       'Georgia, Minnesota', 'Colorado, Nevada',\n",
       "       'Maine, Massachusetts, New Hampshire, North Carolina',\n",
       "       'Alabama, Minnesota, Nevada', 'New Jersey, New York',\n",
       "       'Arizona, Utah', 'Alabama, Kansas', 'California, Oklahoma',\n",
       "       'Illinois, Wisconsin', 'Illinois, Kentucky',\n",
       "       'Arizona, California, Nevada, Texas',\n",
       "       'Alaska, Idaho, Oregon, Utah, Washington',\n",
       "       'Massachusetts, Pennsylvania', 'Nevada, Oregon',\n",
       "       'New Jersey, Virginia', 'Montana, Wyoming',\n",
       "       'Colorado, Massachusetts',\n",
       "       'District of Columbia, Maryland, Virginia',\n",
       "       'Massachusetts, Vermont', 'Massachusetts, New Hampshire',\n",
       "       'Arkansas, Iowa, Massachusetts, Ohio, Wyoming', 'New York, Texas',\n",
       "       'California, Montana', 'Iowa, Utah, Vermont', 'Texas, Virginia',\n",
       "       'Utah, Vermont', 'Arkansas, Illinois', 'Georgia, Massachusetts',\n",
       "       'Maryland, Virginia', 'Florida, Georgia, South Carolina',\n",
       "       'Arkansas, Idaho, Kansas, Louisiana, Michigan, Mississippi, Nevada, New York, South Carolina, Tennessee, Washington',\n",
       "       'California, Texas', 'Indiana, Ohio', 'Ohio, Washington',\n",
       "       'Kansas, Missouri', 'Colorado, Illinois',\n",
       "       'Arizona, Hawaii, Illinois, Michigan, Utah, Wyoming',\n",
       "       'California, New Jersey', 'Louisiana, Washington',\n",
       "       'Maryland, New York', 'District of Columbia, Washington',\n",
       "       'Delaware, Pennsylvania', 'Illinois, North Carolina',\n",
       "       'Indiana, Massachusetts', 'Florida, New Hampshire, Wisconsin',\n",
       "       'Pennsylvania, Rhode Island', 'New York, Oregon, Vermont',\n",
       "       'Iowa, Nebraska', 'California, New York', 'Arizona, New York',\n",
       "       'California, District of Columbia, Illinois, Iowa, Maryland, Minnesota',\n",
       "       'Oregon, Washington', 'New York, Virginia',\n",
       "       'Mississippi, Missouri', 'California, Maryland',\n",
       "       'California, Illinois, Massachusetts, North Carolina, South Carolina, Virginia',\n",
       "       'Alabama, California', 'Michigan, Texas, Washington',\n",
       "       'Alabama, Oregon'], dtype=object)"
      ]
     },
     "execution_count": 29,
     "metadata": {},
     "output_type": "execute_result"
    }
   ],
   "source": [
    "df['state_in_us'].unique()"
   ]
  },
  {
   "cell_type": "code",
   "execution_count": 30,
   "id": "75b3eedb",
   "metadata": {
    "id": "75b3eedb"
   },
   "outputs": [],
   "source": [
    "# formating the state_in_us column\n",
    "df['state_in_us'] = df['state_in_us'].str.title()\n",
    "#removing exta white spaces in the state_in_us column\n",
    "df['state_in_us'] = df ['state_in_us'].str.strip()"
   ]
  },
  {
   "cell_type": "markdown",
   "id": "28757af1",
   "metadata": {
    "id": "28757af1"
   },
   "source": [
    "Here i also employ the **.strip()** function to split  where we have multiple states and select the first index"
   ]
  },
  {
   "cell_type": "code",
   "execution_count": 31,
   "id": "32a7b082",
   "metadata": {
    "colab": {
     "base_uri": "https://localhost:8080/"
    },
    "executionInfo": {
     "elapsed": 135,
     "status": "ok",
     "timestamp": 1693479110148,
     "user": {
      "displayName": "Job Moses",
      "userId": "17792471584855643413"
     },
     "user_tz": -60
    },
    "id": "32a7b082",
    "outputId": "6b9ec19a-1698-49ed-8db5-3ea4487318a5"
   },
   "outputs": [
    {
     "data": {
      "text/plain": [
       "array(['Massachusetts', 'Tennessee', 'Wisconsin', 'South Carolina',\n",
       "       'New Hampshire', 'Arizona', 'Missouri', 'Florida', 'Pennsylvania',\n",
       "       'Michigan', 'Illinois', 'California', 'Georgia', 'Ohio',\n",
       "       'District Of Columbia', 'Maryland', 'Texas', 'Minnesota',\n",
       "       'Virginia', 'North Carolina', 'New York', 'New Jersey',\n",
       "       'Rhode Island', 'Colorado', 'Oregon', 'Washington', 'Indiana',\n",
       "       'Iowa', 'Nebraska', 'Oklahoma', 'Maine', 'Connecticut',\n",
       "       'South Dakota', 'West Virginia', 'Idaho', 'Louisiana', 'Montana',\n",
       "       'Kentucky', 'North Dakota', 'Kansas', 'Vermont', 'Arkansas',\n",
       "       'Alabama', 'Nevada', 'Delaware', 'New Mexico', 'Hawaii', 'Utah',\n",
       "       'Mississippi', 'Alaska', 'Wyoming'], dtype=object)"
      ]
     },
     "execution_count": 31,
     "metadata": {},
     "output_type": "execute_result"
    }
   ],
   "source": [
    "df['state_in_us'].str.split(',', expand = True)[0].unique()"
   ]
  },
  {
   "cell_type": "markdown",
   "id": "276a68d4",
   "metadata": {
    "id": "276a68d4"
   },
   "source": [
    "**.nunique()** $~$ _check for number of unique values in the columns_"
   ]
  },
  {
   "cell_type": "code",
   "execution_count": 32,
   "id": "711bb16c",
   "metadata": {
    "colab": {
     "base_uri": "https://localhost:8080/"
    },
    "executionInfo": {
     "elapsed": 119,
     "status": "ok",
     "timestamp": 1693479110149,
     "user": {
      "displayName": "Job Moses",
      "userId": "17792471584855643413"
     },
     "user_tz": -60
    },
    "id": "711bb16c",
    "outputId": "34c77702-a3c0-4372-913f-02a806dde950"
   },
   "outputs": [
    {
     "data": {
      "text/plain": [
       "51"
      ]
     },
     "execution_count": 32,
     "metadata": {},
     "output_type": "execute_result"
    }
   ],
   "source": [
    "df['state_in_us'].str.split(',', expand = True)[0].nunique()"
   ]
  },
  {
   "cell_type": "code",
   "execution_count": 33,
   "id": "2d3fdf82",
   "metadata": {
    "id": "2d3fdf82"
   },
   "outputs": [],
   "source": [
    "df['state_in_us'] = df['state_in_us'].str.split(',', expand = True)[0]"
   ]
  },
  {
   "cell_type": "markdown",
   "id": "c735f3f7",
   "metadata": {
    "id": "c735f3f7"
   },
   "source": [
    "**inspect changes**"
   ]
  },
  {
   "cell_type": "code",
   "execution_count": 34,
   "id": "83eb941b",
   "metadata": {
    "colab": {
     "base_uri": "https://localhost:8080/"
    },
    "executionInfo": {
     "elapsed": 114,
     "status": "ok",
     "timestamp": 1693479110159,
     "user": {
      "displayName": "Job Moses",
      "userId": "17792471584855643413"
     },
     "user_tz": -60
    },
    "id": "83eb941b",
    "outputId": "e415bcaa-b218-496e-e57e-399c20348f99"
   },
   "outputs": [
    {
     "name": "stdout",
     "output_type": "stream",
     "text": [
      "age_group\n",
      "['25-34' '45-54' '35-44' '18-24' '65 or over' '55-64' 'under 18']\n",
      "unique: ' 7\n",
      "--------------------------------------------------\n",
      "industrial_sector\n",
      "['Education (Higher Education)' 'Accounting, Banking & Finance'\n",
      " 'Nonprofits' ... 'User Experience Design' 'Fast food'\n",
      " 'Hardware Manufacturing']\n",
      "unique: ' 1018\n",
      "--------------------------------------------------\n",
      "job_title\n",
      "['Research and Instruction Librarian' 'Marketing Specialist'\n",
      " 'Program Manager' ... 'Help Desk Associate Analyst'\n",
      " 'Associate Channel Marketing Specialist' 'Technical Analyst']\n",
      "unique: ' 11790\n",
      "--------------------------------------------------\n",
      "country\n",
      "['United States']\n",
      "unique: ' 1\n",
      "--------------------------------------------------\n",
      "state_in_us\n",
      "['Massachusetts' 'Tennessee' 'Wisconsin' 'South Carolina' 'New Hampshire'\n",
      " 'Arizona' 'Missouri' 'Florida' 'Pennsylvania' 'Michigan' 'Illinois'\n",
      " 'California' 'Georgia' 'Ohio' 'District Of Columbia' 'Maryland' 'Texas'\n",
      " 'Minnesota' 'Virginia' 'North Carolina' 'New York' 'New Jersey'\n",
      " 'Rhode Island' 'Colorado' 'Oregon' 'Washington' 'Indiana' 'Iowa'\n",
      " 'Nebraska' 'Oklahoma' 'Maine' 'Connecticut' 'South Dakota'\n",
      " 'West Virginia' 'Idaho' 'Louisiana' 'Montana' 'Kentucky' 'North Dakota'\n",
      " 'Kansas' 'Vermont' 'Arkansas' 'Alabama' 'Nevada' 'Delaware' 'New Mexico'\n",
      " 'Hawaii' 'Utah' 'Mississippi' 'Alaska' 'Wyoming']\n",
      "unique: ' 51\n",
      "--------------------------------------------------\n",
      "currency\n",
      "['USD']\n",
      "unique: ' 1\n",
      "--------------------------------------------------\n",
      "years_pro\n",
      "['5-7 years' '2 - 4 years' '8 - 10 years' '21 - 30 years' '11 - 20 years'\n",
      " '41 years or more' '31 - 40 years' '1 year or less']\n",
      "unique: ' 8\n",
      "--------------------------------------------------\n",
      "years_pro_field\n",
      "['5-7 years' '2 - 4 years' '21 - 30 years' '11 - 20 years' '8 - 10 years'\n",
      " '1 year or less' '31 - 40 years' '41 years or more']\n",
      "unique: ' 8\n",
      "--------------------------------------------------\n",
      "education_level\n",
      "[\"Master's degree\" 'College degree' 'PhD' 'Some college' 'High School'\n",
      " 'Professional degree (MD, JD, etc.)']\n",
      "unique: ' 6\n",
      "--------------------------------------------------\n",
      "gender\n",
      "['Woman' 'Man' 'Non-binary' 'Other or prefer not to answer'\n",
      " 'Prefer not to answer']\n",
      "unique: ' 5\n",
      "--------------------------------------------------\n",
      "race\n",
      "['White' 'Hispanic' 'Asian or Asian American'\n",
      " 'Another option not listed here or prefer not to answer'\n",
      " 'Middle Eastern or Northern African' 'Black or African American'\n",
      " 'Native American or Alaska Native']\n",
      "unique: ' 7\n",
      "--------------------------------------------------\n"
     ]
    }
   ],
   "source": [
    "for col in df[['age_group','industrial_sector','job_title', 'country','state_in_us','currency','years_pro', 'years_pro_field', 'education_level','gender', 'race' ]]:\n",
    "    print(col)\n",
    "    print(df[col].unique())\n",
    "    print(f\"unique: ' {df[col].nunique()}\")\n",
    "    print('-'*50)"
   ]
  },
  {
   "cell_type": "code",
   "execution_count": 35,
   "id": "1414bcf6",
   "metadata": {
    "colab": {
     "base_uri": "https://localhost:8080/"
    },
    "executionInfo": {
     "elapsed": 108,
     "status": "ok",
     "timestamp": 1693479110164,
     "user": {
      "displayName": "Job Moses",
      "userId": "17792471584855643413"
     },
     "user_tz": -60
    },
    "id": "1414bcf6",
    "outputId": "3c483288-03cc-40e4-e734-f7b88b7ed272"
   },
   "outputs": [
    {
     "name": "stdout",
     "output_type": "stream",
     "text": [
      "<class 'pandas.core.frame.DataFrame'>\n",
      "Index: 22431 entries, 0 to 27950\n",
      "Data columns (total 17 columns):\n",
      " #   Column             Non-Null Count  Dtype  \n",
      "---  ------             --------------  -----  \n",
      " 0   age_group          22431 non-null  object \n",
      " 1   industrial_sector  22431 non-null  object \n",
      " 2   job_title          22431 non-null  object \n",
      " 3   job_clarify        5916 non-null   object \n",
      " 4   annual_salary      22431 non-null  int64  \n",
      " 5   benefits           16883 non-null  float64\n",
      " 6   currency           22431 non-null  object \n",
      " 7   more_info          22 non-null     object \n",
      " 8   more_context       2452 non-null   object \n",
      " 9   country            22431 non-null  object \n",
      " 10  state_in_us        22431 non-null  object \n",
      " 11  city               22377 non-null  object \n",
      " 12  years_pro          22431 non-null  object \n",
      " 13  years_pro_field    22431 non-null  object \n",
      " 14  education_level    22431 non-null  object \n",
      " 15  gender             22431 non-null  object \n",
      " 16  race               22431 non-null  object \n",
      "dtypes: float64(1), int64(1), object(15)\n",
      "memory usage: 3.1+ MB\n"
     ]
    }
   ],
   "source": [
    "df.info()"
   ]
  },
  {
   "cell_type": "markdown",
   "id": "930ba6d1",
   "metadata": {
    "id": "930ba6d1"
   },
   "source": [
    "After data cleaning, 22431 responses will be used for this analysis"
   ]
  },
  {
   "cell_type": "markdown",
   "id": "13f63d3c",
   "metadata": {
    "id": "13f63d3c"
   },
   "source": [
    "## 5. Exploratory Analysis and Visualization"
   ]
  },
  {
   "cell_type": "markdown",
   "id": "5ea1992f",
   "metadata": {
    "id": "5ea1992f"
   },
   "source": [
    "**.describe()** - ***statistical summary***"
   ]
  },
  {
   "cell_type": "code",
   "execution_count": 36,
   "id": "d3e040b9",
   "metadata": {
    "colab": {
     "base_uri": "https://localhost:8080/",
     "height": 300
    },
    "executionInfo": {
     "elapsed": 929,
     "status": "ok",
     "timestamp": 1693479243739,
     "user": {
      "displayName": "Job Moses",
      "userId": "17792471584855643413"
     },
     "user_tz": -60
    },
    "id": "d3e040b9",
    "outputId": "5a393a8a-adf8-42aa-d178-130dd218a2b6",
    "scrolled": true
   },
   "outputs": [
    {
     "data": {
      "text/html": [
       "<div>\n",
       "<style scoped>\n",
       "    .dataframe tbody tr th:only-of-type {\n",
       "        vertical-align: middle;\n",
       "    }\n",
       "\n",
       "    .dataframe tbody tr th {\n",
       "        vertical-align: top;\n",
       "    }\n",
       "\n",
       "    .dataframe thead th {\n",
       "        text-align: right;\n",
       "    }\n",
       "</style>\n",
       "<table border=\"1\" class=\"dataframe\">\n",
       "  <thead>\n",
       "    <tr style=\"text-align: right;\">\n",
       "      <th></th>\n",
       "      <th>annual_salary</th>\n",
       "      <th>benefits</th>\n",
       "    </tr>\n",
       "  </thead>\n",
       "  <tbody>\n",
       "    <tr>\n",
       "      <th>count</th>\n",
       "      <td>2.243100e+04</td>\n",
       "      <td>1.688300e+04</td>\n",
       "    </tr>\n",
       "    <tr>\n",
       "      <th>mean</th>\n",
       "      <td>9.180883e+04</td>\n",
       "      <td>1.255719e+04</td>\n",
       "    </tr>\n",
       "    <tr>\n",
       "      <th>std</th>\n",
       "      <td>7.120375e+04</td>\n",
       "      <td>4.453534e+04</td>\n",
       "    </tr>\n",
       "    <tr>\n",
       "      <th>min</th>\n",
       "      <td>0.000000e+00</td>\n",
       "      <td>0.000000e+00</td>\n",
       "    </tr>\n",
       "    <tr>\n",
       "      <th>25%</th>\n",
       "      <td>5.603100e+04</td>\n",
       "      <td>0.000000e+00</td>\n",
       "    </tr>\n",
       "    <tr>\n",
       "      <th>50%</th>\n",
       "      <td>7.800000e+04</td>\n",
       "      <td>2.000000e+03</td>\n",
       "    </tr>\n",
       "    <tr>\n",
       "      <th>75%</th>\n",
       "      <td>1.120000e+05</td>\n",
       "      <td>1.000000e+04</td>\n",
       "    </tr>\n",
       "    <tr>\n",
       "      <th>max</th>\n",
       "      <td>5.000044e+06</td>\n",
       "      <td>1.500000e+06</td>\n",
       "    </tr>\n",
       "  </tbody>\n",
       "</table>\n",
       "</div>"
      ],
      "text/plain": [
       "       annual_salary      benefits\n",
       "count   2.243100e+04  1.688300e+04\n",
       "mean    9.180883e+04  1.255719e+04\n",
       "std     7.120375e+04  4.453534e+04\n",
       "min     0.000000e+00  0.000000e+00\n",
       "25%     5.603100e+04  0.000000e+00\n",
       "50%     7.800000e+04  2.000000e+03\n",
       "75%     1.120000e+05  1.000000e+04\n",
       "max     5.000044e+06  1.500000e+06"
      ]
     },
     "execution_count": 36,
     "metadata": {},
     "output_type": "execute_result"
    }
   ],
   "source": [
    "# the statistical summary of numerical variable\n",
    "df[[ 'annual_salary', 'benefits' ]].describe(include = [np.number])"
   ]
  },
  {
   "cell_type": "code",
   "execution_count": 37,
   "id": "681990e3",
   "metadata": {
    "colab": {
     "base_uri": "https://localhost:8080/",
     "height": 212
    },
    "executionInfo": {
     "elapsed": 102,
     "status": "ok",
     "timestamp": 1693479110172,
     "user": {
      "displayName": "Job Moses",
      "userId": "17792471584855643413"
     },
     "user_tz": -60
    },
    "id": "681990e3",
    "outputId": "146d9f63-d37d-4876-92e2-166f92066896"
   },
   "outputs": [
    {
     "data": {
      "text/html": [
       "<div>\n",
       "<style scoped>\n",
       "    .dataframe tbody tr th:only-of-type {\n",
       "        vertical-align: middle;\n",
       "    }\n",
       "\n",
       "    .dataframe tbody tr th {\n",
       "        vertical-align: top;\n",
       "    }\n",
       "\n",
       "    .dataframe thead th {\n",
       "        text-align: right;\n",
       "    }\n",
       "</style>\n",
       "<table border=\"1\" class=\"dataframe\">\n",
       "  <thead>\n",
       "    <tr style=\"text-align: right;\">\n",
       "      <th></th>\n",
       "      <th>age_group</th>\n",
       "      <th>industrial_sector</th>\n",
       "      <th>job_title</th>\n",
       "      <th>job_clarify</th>\n",
       "      <th>currency</th>\n",
       "      <th>more_info</th>\n",
       "      <th>more_context</th>\n",
       "      <th>country</th>\n",
       "      <th>state_in_us</th>\n",
       "      <th>city</th>\n",
       "      <th>years_pro</th>\n",
       "      <th>years_pro_field</th>\n",
       "      <th>education_level</th>\n",
       "      <th>gender</th>\n",
       "      <th>race</th>\n",
       "    </tr>\n",
       "  </thead>\n",
       "  <tbody>\n",
       "    <tr>\n",
       "      <th>count</th>\n",
       "      <td>22431</td>\n",
       "      <td>22431</td>\n",
       "      <td>22431</td>\n",
       "      <td>5916</td>\n",
       "      <td>22431</td>\n",
       "      <td>22</td>\n",
       "      <td>2452</td>\n",
       "      <td>22431</td>\n",
       "      <td>22431</td>\n",
       "      <td>22377</td>\n",
       "      <td>22431</td>\n",
       "      <td>22431</td>\n",
       "      <td>22431</td>\n",
       "      <td>22431</td>\n",
       "      <td>22431</td>\n",
       "    </tr>\n",
       "    <tr>\n",
       "      <th>unique</th>\n",
       "      <td>7</td>\n",
       "      <td>1018</td>\n",
       "      <td>11790</td>\n",
       "      <td>5744</td>\n",
       "      <td>1</td>\n",
       "      <td>20</td>\n",
       "      <td>2420</td>\n",
       "      <td>1</td>\n",
       "      <td>51</td>\n",
       "      <td>3694</td>\n",
       "      <td>8</td>\n",
       "      <td>8</td>\n",
       "      <td>6</td>\n",
       "      <td>5</td>\n",
       "      <td>7</td>\n",
       "    </tr>\n",
       "    <tr>\n",
       "      <th>top</th>\n",
       "      <td>25-34</td>\n",
       "      <td>Computing or Tech</td>\n",
       "      <td>Software Engineer</td>\n",
       "      <td>Fundraising</td>\n",
       "      <td>USD</td>\n",
       "      <td>USD</td>\n",
       "      <td>#NAME?</td>\n",
       "      <td>United States</td>\n",
       "      <td>California</td>\n",
       "      <td>Boston</td>\n",
       "      <td>11 - 20 years</td>\n",
       "      <td>11 - 20 years</td>\n",
       "      <td>College degree</td>\n",
       "      <td>Woman</td>\n",
       "      <td>White</td>\n",
       "    </tr>\n",
       "    <tr>\n",
       "      <th>freq</th>\n",
       "      <td>9967</td>\n",
       "      <td>3621</td>\n",
       "      <td>228</td>\n",
       "      <td>19</td>\n",
       "      <td>22431</td>\n",
       "      <td>3</td>\n",
       "      <td>4</td>\n",
       "      <td>22431</td>\n",
       "      <td>2553</td>\n",
       "      <td>750</td>\n",
       "      <td>7824</td>\n",
       "      <td>5305</td>\n",
       "      <td>11012</td>\n",
       "      <td>17502</td>\n",
       "      <td>18744</td>\n",
       "    </tr>\n",
       "  </tbody>\n",
       "</table>\n",
       "</div>"
      ],
      "text/plain": [
       "       age_group  industrial_sector          job_title  job_clarify currency  \\\n",
       "count      22431              22431              22431         5916    22431   \n",
       "unique         7               1018              11790         5744        1   \n",
       "top        25-34  Computing or Tech  Software Engineer  Fundraising      USD   \n",
       "freq        9967               3621                228           19    22431   \n",
       "\n",
       "       more_info more_context        country state_in_us    city  \\\n",
       "count         22         2452          22431       22431   22377   \n",
       "unique        20         2420              1          51    3694   \n",
       "top          USD       #NAME?  United States  California  Boston   \n",
       "freq           3            4          22431        2553     750   \n",
       "\n",
       "            years_pro years_pro_field education_level gender   race  \n",
       "count           22431           22431           22431  22431  22431  \n",
       "unique              8               8               6      5      7  \n",
       "top     11 - 20 years   11 - 20 years  College degree  Woman  White  \n",
       "freq             7824            5305           11012  17502  18744  "
      ]
     },
     "execution_count": 37,
     "metadata": {},
     "output_type": "execute_result"
    }
   ],
   "source": [
    "# statistical summary of object vriable\n",
    "df.describe(include = 'O')"
   ]
  },
  {
   "cell_type": "markdown",
   "id": "d984675f",
   "metadata": {
    "id": "d984675f"
   },
   "source": [
    "There are 22431 respondents who worked in different indusrial sectors in the United States. Respondents earn an Average annual salary of 91.8k US dollars, ranginging from 0 USD mininum to 5 million USD maximum. 50% of Survey respondents have completed a colledge degree. 11 -20 years of professional experience in field and overall professional experience are mostly common.  Women gender represent a significant percentae of survey respondents."
   ]
  },
  {
   "cell_type": "markdown",
   "id": "91835ad8",
   "metadata": {
    "id": "91835ad8"
   },
   "source": [
    "### Number of Respondents  by States"
   ]
  },
  {
   "cell_type": "code",
   "execution_count": 38,
   "id": "f5a3c35f",
   "metadata": {
    "colab": {
     "base_uri": "https://localhost:8080/"
    },
    "executionInfo": {
     "elapsed": 101,
     "status": "ok",
     "timestamp": 1693479110174,
     "user": {
      "displayName": "Job Moses",
      "userId": "17792471584855643413"
     },
     "user_tz": -60
    },
    "id": "f5a3c35f",
    "outputId": "982036db-e064-4480-c353-33c34eb2ed3e"
   },
   "outputs": [
    {
     "data": {
      "text/plain": [
       "state_in_us\n",
       "California              11.381570\n",
       "New York                 9.442290\n",
       "Massachusetts            6.606928\n",
       "Texas                    5.487941\n",
       "Illinois                 5.224912\n",
       "Washington               5.126833\n",
       "District Of Columbia     4.306540\n",
       "Pennsylvania             4.123757\n",
       "Virginia                 3.432749\n",
       "Minnesota                3.138514\n",
       "Ohio                     2.844278\n",
       "Colorado                 2.772948\n",
       "Oregon                   2.746199\n",
       "North Carolina           2.625830\n",
       "Maryland                 2.474254\n",
       "Michigan                 2.402925\n",
       "Georgia                  2.353885\n",
       "Florida                  2.278097\n",
       "Wisconsin                2.046275\n",
       "New Jersey               1.747581\n",
       "Missouri                 1.484553\n",
       "Indiana                  1.422139\n",
       "Arizona                  1.368642\n",
       "Tennessee                1.239356\n",
       "Connecticut              1.029825\n",
       "Utah                     0.909456\n",
       "Kentucky                 0.838126\n",
       "Iowa                     0.793545\n",
       "Kansas                   0.677634\n",
       "South Carolina           0.646427\n",
       "Louisiana                0.566181\n",
       "Maine                    0.552806\n",
       "Alabama                  0.534974\n",
       "New Hampshire            0.503767\n",
       "Oklahoma                 0.499309\n",
       "Nebraska                 0.485935\n",
       "Idaho                    0.432437\n",
       "New Mexico               0.432437\n",
       "Nevada                   0.396772\n",
       "Rhode Island             0.338817\n",
       "Arkansas                 0.312068\n",
       "Vermont                  0.294236\n",
       "Alaska                   0.289778\n",
       "Montana                  0.280861\n",
       "Mississippi              0.222906\n",
       "Delaware                 0.205073\n",
       "West Virginia            0.182783\n",
       "North Dakota             0.151576\n",
       "Hawaii                   0.129285\n",
       "South Dakota             0.106995\n",
       "Wyoming                  0.106995\n",
       "Name: proportion, dtype: float64"
      ]
     },
     "execution_count": 38,
     "metadata": {},
     "output_type": "execute_result"
    }
   ],
   "source": [
    "df['state_in_us'].value_counts(normalize  = True) * 100"
   ]
  },
  {
   "cell_type": "code",
   "execution_count": 39,
   "id": "fbf3f2f2",
   "metadata": {
    "colab": {
     "base_uri": "https://localhost:8080/",
     "height": 613
    },
    "executionInfo": {
     "elapsed": 1675,
     "status": "ok",
     "timestamp": 1693479111756,
     "user": {
      "displayName": "Job Moses",
      "userId": "17792471584855643413"
     },
     "user_tz": -60
    },
    "id": "fbf3f2f2",
    "outputId": "eba6b271-1073-4f4b-ce19-0e135e344f82"
   },
   "outputs": [
    {
     "data": {
      "image/png": "[encoded data removed]",
      "text/plain": [
       "<Figure size 1000x500 with 1 Axes>"
      ]
     },
     "metadata": {},
     "output_type": "display_data"
    }
   ],
   "source": [
    "us_state = df['state_in_us'].value_counts().head(20)\n",
    "plt.figure(figsize = (10,5))\n",
    "plt.stem( us_state.index , us_state.values)\n",
    "plt.ylabel('counts of respondents')\n",
    "plt.xlabel('States')\n",
    "plt.title('Top 10 States by Counts of Respondents')\n",
    "plt.xticks(rotation = 90);"
   ]
  },
  {
   "cell_type": "markdown",
   "id": "166865af",
   "metadata": {
    "id": "166865af"
   },
   "source": [
    "20% of survey respondents worked in California and  New York   "
   ]
  },
  {
   "cell_type": "markdown",
   "id": "79edebce",
   "metadata": {
    "id": "79edebce"
   },
   "source": [
    "### Which industry are Respondents working the most"
   ]
  },
  {
   "cell_type": "code",
   "execution_count": 40,
   "id": "eac4ad46",
   "metadata": {
    "colab": {
     "base_uri": "https://localhost:8080/",
     "height": 35
    },
    "executionInfo": {
     "elapsed": 320,
     "status": "ok",
     "timestamp": 1693479111762,
     "user": {
      "displayName": "Job Moses",
      "userId": "17792471584855643413"
     },
     "user_tz": -60
    },
    "id": "eac4ad46",
    "outputId": "dc929e67-40a6-4e17-d787-47f79da3f40e"
   },
   "outputs": [
    {
     "data": {
      "text/plain": [
       "'What industry do you work in?'"
      ]
     },
     "execution_count": 40,
     "metadata": {},
     "output_type": "execute_result"
    }
   ],
   "source": [
    "df_schema.industrial_sector"
   ]
  },
  {
   "cell_type": "code",
   "execution_count": 41,
   "id": "600eed04",
   "metadata": {
    "colab": {
     "base_uri": "https://localhost:8080/"
    },
    "executionInfo": {
     "elapsed": 285,
     "status": "ok",
     "timestamp": 1693479111764,
     "user": {
      "displayName": "Job Moses",
      "userId": "17792471584855643413"
     },
     "user_tz": -60
    },
    "id": "600eed04",
    "outputId": "32f7c9c4-6f5a-4ce6-d9c2-4dee59b9d494"
   },
   "outputs": [
    {
     "data": {
      "text/plain": [
       "industrial_sector\n",
       "Computing or Tech                3621\n",
       "Nonprofits                       2077\n",
       "Education (Higher Education)     2017\n",
       "Health care                      1582\n",
       "Accounting, Banking & Finance    1419\n",
       "                                 ... \n",
       "Learning and Development            1\n",
       "Data Analytics                      1\n",
       "Luxury Fashion                      1\n",
       "Data Entry                          1\n",
       "Hardware Manufacturing              1\n",
       "Name: count, Length: 1018, dtype: int64"
      ]
     },
     "execution_count": 41,
     "metadata": {},
     "output_type": "execute_result"
    }
   ],
   "source": [
    "# Top 20 jobs of survey respondents\n",
    "df['industrial_sector'].value_counts()"
   ]
  },
  {
   "cell_type": "code",
   "execution_count": 42,
   "id": "4a8bb1e4",
   "metadata": {
    "colab": {
     "base_uri": "https://localhost:8080/"
    },
    "executionInfo": {
     "elapsed": 252,
     "status": "ok",
     "timestamp": 1693479111766,
     "user": {
      "displayName": "Job Moses",
      "userId": "17792471584855643413"
     },
     "user_tz": -60
    },
    "id": "4a8bb1e4",
    "outputId": "7136ad05-042c-4865-e6da-1c9637f3e198",
    "scrolled": false
   },
   "outputs": [
    {
     "data": {
      "text/plain": [
       "industrial_sector\n",
       "Computing or Tech                16.142838\n",
       "Nonprofits                        9.259507\n",
       "Education (Higher Education)      8.992020\n",
       "Health care                       7.052740\n",
       "Accounting, Banking & Finance     6.326067\n",
       "                                   ...    \n",
       "Learning and Development          0.004458\n",
       "Data Analytics                    0.004458\n",
       "Luxury Fashion                    0.004458\n",
       "Data Entry                        0.004458\n",
       "Hardware Manufacturing            0.004458\n",
       "Name: proportion, Length: 1018, dtype: float64"
      ]
     },
     "execution_count": 42,
     "metadata": {},
     "output_type": "execute_result"
    }
   ],
   "source": [
    "# Top 20 jobs of survey respondents\n",
    "df['industrial_sector'].value_counts(normalize = True)* 100"
   ]
  },
  {
   "cell_type": "code",
   "execution_count": 43,
   "id": "1a132abd",
   "metadata": {
    "id": "1a132abd"
   },
   "outputs": [],
   "source": [
    "industrial_sector = df['industrial_sector'].value_counts().head(20)"
   ]
  },
  {
   "cell_type": "code",
   "execution_count": 44,
   "id": "1f08db12",
   "metadata": {
    "colab": {
     "base_uri": "https://localhost:8080/",
     "height": 722
    },
    "executionInfo": {
     "elapsed": 207,
     "status": "ok",
     "timestamp": 1693479111770,
     "user": {
      "displayName": "Job Moses",
      "userId": "17792471584855643413"
     },
     "user_tz": -60
    },
    "id": "1f08db12",
    "outputId": "b20ebca2-ac71-41ce-8d53-bfdf82ed3c74"
   },
   "outputs": [
    {
     "data": {
      "image/png": "[encoded data removed]",
      "text/plain": [
       "<Figure size 900x500 with 1 Axes>"
      ]
     },
     "metadata": {},
     "output_type": "display_data"
    }
   ],
   "source": [
    "plt.figure( figsize = (9,5))\n",
    "plt.stem( industrial_sector.index , industrial_sector.values)\n",
    "plt.title('Top 20 Industrial sectors of Survey Respondents')\n",
    "plt.ylabel('Number of Respondents')\n",
    "plt.xticks(rotation = 90);"
   ]
  },
  {
   "cell_type": "markdown",
   "id": "536f6b58",
   "metadata": {
    "id": "536f6b58"
   },
   "source": [
    "16% of respondents worked in computer or Tech industry which is highest, Non-profit, Also a significant number of respondent worked in Non-profit,  Higher education , healthcare and Finance which constitute about 30% of total respondents"
   ]
  },
  {
   "cell_type": "markdown",
   "id": "e431fb6a",
   "metadata": {
    "id": "e431fb6a"
   },
   "source": [
    "### What are Top Jobs of Respondents"
   ]
  },
  {
   "cell_type": "code",
   "execution_count": 45,
   "id": "786ecf6b",
   "metadata": {
    "colab": {
     "base_uri": "https://localhost:8080/",
     "height": 472
    },
    "executionInfo": {
     "elapsed": 201,
     "status": "ok",
     "timestamp": 1693479111772,
     "user": {
      "displayName": "Job Moses",
      "userId": "17792471584855643413"
     },
     "user_tz": -60
    },
    "id": "786ecf6b",
    "outputId": "4537072b-bacf-4dce-c175-701af60848c5"
   },
   "outputs": [
    {
     "data": {
      "image/png": "[encoded data removed]",
      "text/plain": [
       "<Figure size 640x480 with 1 Axes>"
      ]
     },
     "metadata": {},
     "output_type": "display_data"
    }
   ],
   "source": [
    "df['job_title'].value_counts().head(10).plot(kind = 'barh')\n",
    "plt.title('Top 10 Jobs of Survey Respondent')\n",
    "plt.xlabel(' Number of Respondents')\n",
    "plt.ylabel('Job Title');"
   ]
  },
  {
   "cell_type": "markdown",
   "id": "3963fa91",
   "metadata": {
    "id": "3963fa91"
   },
   "source": [
    "###  Age group of Respodents"
   ]
  },
  {
   "cell_type": "code",
   "execution_count": 46,
   "id": "bb046b5e",
   "metadata": {
    "colab": {
     "base_uri": "https://localhost:8080/",
     "height": 472
    },
    "executionInfo": {
     "elapsed": 232,
     "status": "ok",
     "timestamp": 1693479111813,
     "user": {
      "displayName": "Job Moses",
      "userId": "17792471584855643413"
     },
     "user_tz": -60
    },
    "id": "bb046b5e",
    "outputId": "73ef23df-9652-4c9a-da57-117c95319422"
   },
   "outputs": [
    {
     "data": {
      "image/png": "[encoded data removed]",
      "text/plain": [
       "<Figure size 640x480 with 1 Axes>"
      ]
     },
     "metadata": {},
     "output_type": "display_data"
    }
   ],
   "source": [
    "plt.title(df_schema.age_group)\n",
    "sns.countplot(data = df , x = 'age_group')\n",
    "plt.ylabel('Number of Respondents')\n",
    "plt.xlabel('Age group');"
   ]
  },
  {
   "cell_type": "markdown",
   "id": "28d7cd28",
   "metadata": {
    "id": "28d7cd28"
   },
   "source": [
    "Majority of survey Respondents are between age 25- 44 years"
   ]
  },
  {
   "cell_type": "markdown",
   "id": "cee3939a",
   "metadata": {
    "id": "cee3939a"
   },
   "source": [
    "### Gender"
   ]
  },
  {
   "cell_type": "code",
   "execution_count": 47,
   "id": "27c5e7f8",
   "metadata": {
    "colab": {
     "base_uri": "https://localhost:8080/",
     "height": 428
    },
    "executionInfo": {
     "elapsed": 232,
     "status": "ok",
     "timestamp": 1693479111819,
     "user": {
      "displayName": "Job Moses",
      "userId": "17792471584855643413"
     },
     "user_tz": -60
    },
    "id": "27c5e7f8",
    "outputId": "c57340ad-b059-4c04-c4f0-8b7d5beedd2c",
    "scrolled": false
   },
   "outputs": [
    {
     "data": {
      "image/png": "[encoded data removed]",
      "text/plain": [
       "<Figure size 640x480 with 1 Axes>"
      ]
     },
     "metadata": {},
     "output_type": "display_data"
    }
   ],
   "source": [
    "plt.title(df_schema.gender)\n",
    "df['gender'].value_counts().plot.pie(autopct = '%1.0f%%', );"
   ]
  },
  {
   "cell_type": "markdown",
   "id": "c994e460",
   "metadata": {
    "id": "c994e460"
   },
   "source": [
    "78 percents of survey Respondents are women while other genders constitute 28 percent of the survey respondents from U.S"
   ]
  },
  {
   "cell_type": "markdown",
   "id": "f85a47cb",
   "metadata": {
    "id": "f85a47cb"
   },
   "source": [
    "## Education level"
   ]
  },
  {
   "cell_type": "code",
   "execution_count": 48,
   "id": "80e8da5a",
   "metadata": {
    "colab": {
     "base_uri": "https://localhost:8080/"
    },
    "executionInfo": {
     "elapsed": 214,
     "status": "ok",
     "timestamp": 1693479111820,
     "user": {
      "displayName": "Job Moses",
      "userId": "17792471584855643413"
     },
     "user_tz": -60
    },
    "id": "80e8da5a",
    "outputId": "10153bdf-1628-4761-eee2-f763366b0428"
   },
   "outputs": [
    {
     "data": {
      "text/plain": [
       "education_level\n",
       "College degree                        49.092773\n",
       "Master's degree                       32.374838\n",
       "Some college                           7.061656\n",
       "Professional degree (MD, JD, etc.)     4.917302\n",
       "PhD                                    4.814765\n",
       "High School                            1.738665\n",
       "Name: proportion, dtype: float64"
      ]
     },
     "execution_count": 48,
     "metadata": {},
     "output_type": "execute_result"
    }
   ],
   "source": [
    "df['education_level'].value_counts(normalize = True)*100"
   ]
  },
  {
   "cell_type": "code",
   "execution_count": 49,
   "id": "21dc180c",
   "metadata": {
    "colab": {
     "base_uri": "https://localhost:8080/",
     "height": 671
    },
    "executionInfo": {
     "elapsed": 1261,
     "status": "ok",
     "timestamp": 1693479112882,
     "user": {
      "displayName": "Job Moses",
      "userId": "17792471584855643413"
     },
     "user_tz": -60
    },
    "id": "21dc180c",
    "outputId": "35229b8d-42c4-4fb0-cb7a-ec250c88f064"
   },
   "outputs": [
    {
     "data": {
      "image/png": "[encoded data removed]",
      "text/plain": [
       "<Figure size 640x480 with 1 Axes>"
      ]
     },
     "metadata": {},
     "output_type": "display_data"
    }
   ],
   "source": [
    "plt.title(df_schema.education_level)\n",
    "df['education_level'].value_counts().plot(kind = 'bar')\n",
    "plt.ylabel('Number of Respondents');"
   ]
  },
  {
   "cell_type": "markdown",
   "id": "e2a4634b",
   "metadata": {
    "id": "e2a4634b"
   },
   "source": [
    "81% have completed either a college degree or a master degree"
   ]
  },
  {
   "cell_type": "markdown",
   "id": "bff8a8d2",
   "metadata": {
    "id": "bff8a8d2"
   },
   "source": [
    "### Work Experience"
   ]
  },
  {
   "cell_type": "code",
   "execution_count": 50,
   "id": "e5ec41a6",
   "metadata": {
    "colab": {
     "base_uri": "https://localhost:8080/",
     "height": 573
    },
    "executionInfo": {
     "elapsed": 87,
     "status": "ok",
     "timestamp": 1693479112883,
     "user": {
      "displayName": "Job Moses",
      "userId": "17792471584855643413"
     },
     "user_tz": -60
    },
    "id": "e5ec41a6",
    "outputId": "de674689-d536-4f60-f45e-7c53d1448f02"
   },
   "outputs": [
    {
     "data": {
      "image/png": "[encoded data removed]",
      "text/plain": [
       "<Figure size 1500x500 with 2 Axes>"
      ]
     },
     "metadata": {},
     "output_type": "display_data"
    }
   ],
   "source": [
    "fig = plt.figure(figsize = (15,5))\n",
    "\n",
    "ax1 =plt.subplot2grid((1,2),(0,0))\n",
    "plt.xticks( rotation = 75)\n",
    "sns.countplot(data = df, x='years_pro', order= ['1 year or less', '2 - 4 years', '5-7 years', '8 - 10 years',\n",
    "       '11 - 20 years', '21 - 30 years', '31 - 40 years',\n",
    "       '41 years or more'], ax=ax1)\n",
    "ax1.set_title(label=df_schema.years_pro, fontsize=10, weight='bold')\n",
    "\n",
    "\n",
    "ax2 = plt.subplot2grid((1,2),(0,1))\n",
    "plt.xticks( rotation = 75)\n",
    "sns.countplot(data = df, x='years_pro_field', order=['1 year or less', '2 - 4 years', '5-7 years', '8 - 10 years','11 - 20 years', '21 - 30 years', '31 - 40 years','41 years or more'], ax=ax2)\n",
    "ax2.set_title(label=df_schema.years_pro_field, fontsize=10, weight='bold');"
   ]
  },
  {
   "cell_type": "markdown",
   "id": "ffd2b611",
   "metadata": {
    "id": "ffd2b611"
   },
   "source": [
    "Majority of Respondents have higher experience in their professional field, this implies that they started their career early in their field"
   ]
  },
  {
   "cell_type": "markdown",
   "id": "7078618a",
   "metadata": {
    "id": "7078618a"
   },
   "source": [
    "### Race"
   ]
  },
  {
   "cell_type": "code",
   "execution_count": 51,
   "id": "75a9d74f",
   "metadata": {
    "colab": {
     "base_uri": "https://localhost:8080/"
    },
    "executionInfo": {
     "elapsed": 86,
     "status": "ok",
     "timestamp": 1693479112885,
     "user": {
      "displayName": "Job Moses",
      "userId": "17792471584855643413"
     },
     "user_tz": -60
    },
    "id": "75a9d74f",
    "outputId": "270a59bc-712f-4b42-fc41-b887f5898d9a"
   },
   "outputs": [
    {
     "data": {
      "text/plain": [
       "race\n",
       "White                                                     0.835629\n",
       "Asian or Asian American                                   0.063439\n",
       "Hispanic                                                  0.039677\n",
       "Black or African American                                 0.032455\n",
       "Another option not listed here or prefer not to answer    0.019170\n",
       "Middle Eastern or Northern African                        0.005706\n",
       "Native American or Alaska Native                          0.003923\n",
       "Name: proportion, dtype: float64"
      ]
     },
     "execution_count": 51,
     "metadata": {},
     "output_type": "execute_result"
    }
   ],
   "source": [
    "df['race'].value_counts(normalize = True)"
   ]
  },
  {
   "cell_type": "code",
   "execution_count": 52,
   "id": "72e173de",
   "metadata": {
    "colab": {
     "base_uri": "https://localhost:8080/",
     "height": 472
    },
    "executionInfo": {
     "elapsed": 71,
     "status": "ok",
     "timestamp": 1693479112887,
     "user": {
      "displayName": "Job Moses",
      "userId": "17792471584855643413"
     },
     "user_tz": -60
    },
    "id": "72e173de",
    "outputId": "e9229349-856d-42fd-af9f-5f46654d44f8"
   },
   "outputs": [
    {
     "data": {
      "image/png": "[encoded data removed]",
      "text/plain": [
       "<Figure size 640x480 with 1 Axes>"
      ]
     },
     "metadata": {},
     "output_type": "display_data"
    }
   ],
   "source": [
    "plt.title(df_schema.race)\n",
    "df['race'].value_counts().plot(kind = 'barh')\n",
    "plt.ylabel('Race of Respondents')\n",
    "plt.xlabel('Number of Respondents');"
   ]
  },
  {
   "cell_type": "markdown",
   "id": "f8c35441",
   "metadata": {
    "id": "f8c35441"
   },
   "source": [
    "Survey Respondents are predominanty white upto 83.5%"
   ]
  },
  {
   "cell_type": "markdown",
   "id": "7ca50de9",
   "metadata": {
    "id": "7ca50de9"
   },
   "source": [
    "**Top 5 highest salary**"
   ]
  },
  {
   "cell_type": "code",
   "execution_count": 53,
   "id": "32d68f11",
   "metadata": {
    "colab": {
     "base_uri": "https://localhost:8080/",
     "height": 434
    },
    "executionInfo": {
     "elapsed": 66,
     "status": "ok",
     "timestamp": 1693479112888,
     "user": {
      "displayName": "Job Moses",
      "userId": "17792471584855643413"
     },
     "user_tz": -60
    },
    "id": "32d68f11",
    "outputId": "60259d31-a778-448c-fa55-e1d333c4a563"
   },
   "outputs": [
    {
     "data": {
      "text/html": [
       "<div>\n",
       "<style scoped>\n",
       "    .dataframe tbody tr th:only-of-type {\n",
       "        vertical-align: middle;\n",
       "    }\n",
       "\n",
       "    .dataframe tbody tr th {\n",
       "        vertical-align: top;\n",
       "    }\n",
       "\n",
       "    .dataframe thead th {\n",
       "        text-align: right;\n",
       "    }\n",
       "</style>\n",
       "<table border=\"1\" class=\"dataframe\">\n",
       "  <thead>\n",
       "    <tr style=\"text-align: right;\">\n",
       "      <th></th>\n",
       "      <th>age_group</th>\n",
       "      <th>industrial_sector</th>\n",
       "      <th>job_title</th>\n",
       "      <th>job_clarify</th>\n",
       "      <th>annual_salary</th>\n",
       "      <th>benefits</th>\n",
       "      <th>currency</th>\n",
       "      <th>more_info</th>\n",
       "      <th>more_context</th>\n",
       "      <th>country</th>\n",
       "      <th>state_in_us</th>\n",
       "      <th>city</th>\n",
       "      <th>years_pro</th>\n",
       "      <th>years_pro_field</th>\n",
       "      <th>education_level</th>\n",
       "      <th>gender</th>\n",
       "      <th>race</th>\n",
       "    </tr>\n",
       "  </thead>\n",
       "  <tbody>\n",
       "    <tr>\n",
       "      <th>26466</th>\n",
       "      <td>55-64</td>\n",
       "      <td>Sales</td>\n",
       "      <td>Inside sales manager</td>\n",
       "      <td>NaN</td>\n",
       "      <td>5000044</td>\n",
       "      <td>4000.0</td>\n",
       "      <td>USD</td>\n",
       "      <td>NaN</td>\n",
       "      <td>NaN</td>\n",
       "      <td>United States</td>\n",
       "      <td>New Jersey</td>\n",
       "      <td>Pinebrook</td>\n",
       "      <td>31 - 40 years</td>\n",
       "      <td>21 - 30 years</td>\n",
       "      <td>Master's degree</td>\n",
       "      <td>Woman</td>\n",
       "      <td>Black or African American</td>\n",
       "    </tr>\n",
       "    <tr>\n",
       "      <th>2124</th>\n",
       "      <td>55-64</td>\n",
       "      <td>Art &amp; Design</td>\n",
       "      <td>Owner and CEO</td>\n",
       "      <td>NaN</td>\n",
       "      <td>3000000</td>\n",
       "      <td>NaN</td>\n",
       "      <td>USD</td>\n",
       "      <td>NaN</td>\n",
       "      <td>NaN</td>\n",
       "      <td>United States</td>\n",
       "      <td>New York</td>\n",
       "      <td>New York</td>\n",
       "      <td>21 - 30 years</td>\n",
       "      <td>21 - 30 years</td>\n",
       "      <td>Master's degree</td>\n",
       "      <td>Woman</td>\n",
       "      <td>White</td>\n",
       "    </tr>\n",
       "    <tr>\n",
       "      <th>5755</th>\n",
       "      <td>25-34</td>\n",
       "      <td>Health care</td>\n",
       "      <td>Attending Physician (general internal medicine)</td>\n",
       "      <td>NaN</td>\n",
       "      <td>1900000</td>\n",
       "      <td>0.0</td>\n",
       "      <td>USD</td>\n",
       "      <td>NaN</td>\n",
       "      <td>NaN</td>\n",
       "      <td>United States</td>\n",
       "      <td>Connecticut</td>\n",
       "      <td>New Haven</td>\n",
       "      <td>5-7 years</td>\n",
       "      <td>5-7 years</td>\n",
       "      <td>Professional degree (MD, JD, etc.)</td>\n",
       "      <td>Woman</td>\n",
       "      <td>White</td>\n",
       "    </tr>\n",
       "    <tr>\n",
       "      <th>6783</th>\n",
       "      <td>25-34</td>\n",
       "      <td>Computing or Tech</td>\n",
       "      <td>Principal Software Engineer</td>\n",
       "      <td>NaN</td>\n",
       "      <td>1650000</td>\n",
       "      <td>25000.0</td>\n",
       "      <td>USD</td>\n",
       "      <td>NaN</td>\n",
       "      <td>NaN</td>\n",
       "      <td>United States</td>\n",
       "      <td>Massachusetts</td>\n",
       "      <td>Boston</td>\n",
       "      <td>8 - 10 years</td>\n",
       "      <td>5-7 years</td>\n",
       "      <td>Master's degree</td>\n",
       "      <td>Man</td>\n",
       "      <td>Asian or Asian American</td>\n",
       "    </tr>\n",
       "    <tr>\n",
       "      <th>9238</th>\n",
       "      <td>35-44</td>\n",
       "      <td>Government and Public Administration</td>\n",
       "      <td>Senior Policy Advisor</td>\n",
       "      <td>NaN</td>\n",
       "      <td>1334782</td>\n",
       "      <td>0.0</td>\n",
       "      <td>USD</td>\n",
       "      <td>NaN</td>\n",
       "      <td>Includes a locality pay for living in a higher...</td>\n",
       "      <td>United States</td>\n",
       "      <td>District Of Columbia</td>\n",
       "      <td>DC</td>\n",
       "      <td>11 - 20 years</td>\n",
       "      <td>11 - 20 years</td>\n",
       "      <td>PhD</td>\n",
       "      <td>Woman</td>\n",
       "      <td>Black or African American</td>\n",
       "    </tr>\n",
       "  </tbody>\n",
       "</table>\n",
       "</div>"
      ],
      "text/plain": [
       "      age_group                     industrial_sector  \\\n",
       "26466     55-64                                 Sales   \n",
       "2124      55-64                          Art & Design   \n",
       "5755      25-34                           Health care   \n",
       "6783      25-34                     Computing or Tech   \n",
       "9238      35-44  Government and Public Administration   \n",
       "\n",
       "                                             job_title job_clarify  \\\n",
       "26466                             Inside sales manager         NaN   \n",
       "2124                                    Owner and CEO          NaN   \n",
       "5755   Attending Physician (general internal medicine)         NaN   \n",
       "6783                       Principal Software Engineer         NaN   \n",
       "9238                             Senior Policy Advisor         NaN   \n",
       "\n",
       "       annual_salary  benefits currency more_info  \\\n",
       "26466        5000044    4000.0      USD       NaN   \n",
       "2124         3000000       NaN      USD       NaN   \n",
       "5755         1900000       0.0      USD       NaN   \n",
       "6783         1650000   25000.0      USD       NaN   \n",
       "9238         1334782       0.0      USD       NaN   \n",
       "\n",
       "                                            more_context        country  \\\n",
       "26466                                                NaN  United States   \n",
       "2124                                                 NaN  United States   \n",
       "5755                                                 NaN  United States   \n",
       "6783                                                 NaN  United States   \n",
       "9238   Includes a locality pay for living in a higher...  United States   \n",
       "\n",
       "                state_in_us       city      years_pro years_pro_field  \\\n",
       "26466            New Jersey  Pinebrook  31 - 40 years   21 - 30 years   \n",
       "2124               New York  New York   21 - 30 years   21 - 30 years   \n",
       "5755            Connecticut  New Haven      5-7 years       5-7 years   \n",
       "6783          Massachusetts     Boston   8 - 10 years       5-7 years   \n",
       "9238   District Of Columbia         DC  11 - 20 years   11 - 20 years   \n",
       "\n",
       "                          education_level gender                       race  \n",
       "26466                     Master's degree  Woman  Black or African American  \n",
       "2124                      Master's degree  Woman                      White  \n",
       "5755   Professional degree (MD, JD, etc.)  Woman                      White  \n",
       "6783                      Master's degree    Man    Asian or Asian American  \n",
       "9238                                  PhD  Woman  Black or African American  "
      ]
     },
     "execution_count": 53,
     "metadata": {},
     "output_type": "execute_result"
    }
   ],
   "source": [
    "df.nlargest(5,'annual_salary')"
   ]
  },
  {
   "cell_type": "markdown",
   "id": "4c0c9f94",
   "metadata": {
    "id": "4c0c9f94"
   },
   "source": [
    "**Top 5 least salary**"
   ]
  },
  {
   "cell_type": "code",
   "execution_count": 54,
   "id": "1e86c133",
   "metadata": {
    "colab": {
     "base_uri": "https://localhost:8080/",
     "height": 504
    },
    "executionInfo": {
     "elapsed": 62,
     "status": "ok",
     "timestamp": 1693479112890,
     "user": {
      "displayName": "Job Moses",
      "userId": "17792471584855643413"
     },
     "user_tz": -60
    },
    "id": "1e86c133",
    "outputId": "43f4eaf1-b04c-4010-8e2e-e76354f39ba4",
    "scrolled": false
   },
   "outputs": [
    {
     "data": {
      "text/html": [
       "<div>\n",
       "<style scoped>\n",
       "    .dataframe tbody tr th:only-of-type {\n",
       "        vertical-align: middle;\n",
       "    }\n",
       "\n",
       "    .dataframe tbody tr th {\n",
       "        vertical-align: top;\n",
       "    }\n",
       "\n",
       "    .dataframe thead th {\n",
       "        text-align: right;\n",
       "    }\n",
       "</style>\n",
       "<table border=\"1\" class=\"dataframe\">\n",
       "  <thead>\n",
       "    <tr style=\"text-align: right;\">\n",
       "      <th></th>\n",
       "      <th>age_group</th>\n",
       "      <th>industrial_sector</th>\n",
       "      <th>job_title</th>\n",
       "      <th>job_clarify</th>\n",
       "      <th>annual_salary</th>\n",
       "      <th>benefits</th>\n",
       "      <th>currency</th>\n",
       "      <th>more_info</th>\n",
       "      <th>more_context</th>\n",
       "      <th>country</th>\n",
       "      <th>state_in_us</th>\n",
       "      <th>city</th>\n",
       "      <th>years_pro</th>\n",
       "      <th>years_pro_field</th>\n",
       "      <th>education_level</th>\n",
       "      <th>gender</th>\n",
       "      <th>race</th>\n",
       "    </tr>\n",
       "  </thead>\n",
       "  <tbody>\n",
       "    <tr>\n",
       "      <th>8739</th>\n",
       "      <td>35-44</td>\n",
       "      <td>Stay-at-home parent</td>\n",
       "      <td>\"mum\" ;)</td>\n",
       "      <td>NaN</td>\n",
       "      <td>0</td>\n",
       "      <td>0.0</td>\n",
       "      <td>USD</td>\n",
       "      <td>NaN</td>\n",
       "      <td>NaN</td>\n",
       "      <td>United States</td>\n",
       "      <td>Kentucky</td>\n",
       "      <td>Louisville</td>\n",
       "      <td>21 - 30 years</td>\n",
       "      <td>8 - 10 years</td>\n",
       "      <td>Master's degree</td>\n",
       "      <td>Woman</td>\n",
       "      <td>White</td>\n",
       "    </tr>\n",
       "    <tr>\n",
       "      <th>10362</th>\n",
       "      <td>35-44</td>\n",
       "      <td>Nonprofits</td>\n",
       "      <td>Executive Director</td>\n",
       "      <td>NaN</td>\n",
       "      <td>0</td>\n",
       "      <td>NaN</td>\n",
       "      <td>USD</td>\n",
       "      <td>NaN</td>\n",
       "      <td>NaN</td>\n",
       "      <td>United States</td>\n",
       "      <td>North Dakota</td>\n",
       "      <td>Charlotte</td>\n",
       "      <td>11 - 20 years</td>\n",
       "      <td>11 - 20 years</td>\n",
       "      <td>Master's degree</td>\n",
       "      <td>Other or prefer not to answer</td>\n",
       "      <td>White</td>\n",
       "    </tr>\n",
       "    <tr>\n",
       "      <th>12615</th>\n",
       "      <td>35-44</td>\n",
       "      <td>Law</td>\n",
       "      <td>Attorney</td>\n",
       "      <td>I am an equity member at my firm.</td>\n",
       "      <td>0</td>\n",
       "      <td>185000.0</td>\n",
       "      <td>USD</td>\n",
       "      <td>NaN</td>\n",
       "      <td>I receive bi-weekly draws with end-of-year inc...</td>\n",
       "      <td>United States</td>\n",
       "      <td>West Virginia</td>\n",
       "      <td>Huntington</td>\n",
       "      <td>11 - 20 years</td>\n",
       "      <td>8 - 10 years</td>\n",
       "      <td>Professional degree (MD, JD, etc.)</td>\n",
       "      <td>Woman</td>\n",
       "      <td>White</td>\n",
       "    </tr>\n",
       "    <tr>\n",
       "      <th>13537</th>\n",
       "      <td>25-34</td>\n",
       "      <td>Education (Primary/Secondary)</td>\n",
       "      <td>Student teacher</td>\n",
       "      <td>Am training to be a teacher</td>\n",
       "      <td>0</td>\n",
       "      <td>0.0</td>\n",
       "      <td>USD</td>\n",
       "      <td>NaN</td>\n",
       "      <td>Student teaching is usually unpaid</td>\n",
       "      <td>United States</td>\n",
       "      <td>Connecticut</td>\n",
       "      <td>New. Haven</td>\n",
       "      <td>2 - 4 years</td>\n",
       "      <td>2 - 4 years</td>\n",
       "      <td>Master's degree</td>\n",
       "      <td>Woman</td>\n",
       "      <td>Middle Eastern or Northern African</td>\n",
       "    </tr>\n",
       "    <tr>\n",
       "      <th>15238</th>\n",
       "      <td>18-24</td>\n",
       "      <td>Computing or Tech</td>\n",
       "      <td>Product Marketer</td>\n",
       "      <td>NaN</td>\n",
       "      <td>0</td>\n",
       "      <td>0.0</td>\n",
       "      <td>USD</td>\n",
       "      <td>NaN</td>\n",
       "      <td>Start up without funding. Compensation is in s...</td>\n",
       "      <td>United States</td>\n",
       "      <td>California</td>\n",
       "      <td>Santa Clara</td>\n",
       "      <td>1 year or less</td>\n",
       "      <td>1 year or less</td>\n",
       "      <td>College degree</td>\n",
       "      <td>Man</td>\n",
       "      <td>Asian or Asian American</td>\n",
       "    </tr>\n",
       "  </tbody>\n",
       "</table>\n",
       "</div>"
      ],
      "text/plain": [
       "      age_group              industrial_sector            job_title  \\\n",
       "8739      35-44            Stay-at-home parent             \"mum\" ;)   \n",
       "10362     35-44                     Nonprofits  Executive Director    \n",
       "12615     35-44                            Law             Attorney   \n",
       "13537     25-34  Education (Primary/Secondary)      Student teacher   \n",
       "15238     18-24              Computing or Tech     Product Marketer   \n",
       "\n",
       "                             job_clarify  annual_salary  benefits currency  \\\n",
       "8739                                 NaN              0       0.0      USD   \n",
       "10362                                NaN              0       NaN      USD   \n",
       "12615  I am an equity member at my firm.              0  185000.0      USD   \n",
       "13537        Am training to be a teacher              0       0.0      USD   \n",
       "15238                                NaN              0       0.0      USD   \n",
       "\n",
       "      more_info                                       more_context  \\\n",
       "8739        NaN                                                NaN   \n",
       "10362       NaN                                                NaN   \n",
       "12615       NaN  I receive bi-weekly draws with end-of-year inc...   \n",
       "13537       NaN                Student teaching is usually unpaid    \n",
       "15238       NaN  Start up without funding. Compensation is in s...   \n",
       "\n",
       "             country    state_in_us         city       years_pro  \\\n",
       "8739   United States       Kentucky   Louisville   21 - 30 years   \n",
       "10362  United States   North Dakota   Charlotte    11 - 20 years   \n",
       "12615  United States  West Virginia   Huntington   11 - 20 years   \n",
       "13537  United States    Connecticut   New. Haven     2 - 4 years   \n",
       "15238  United States     California  Santa Clara  1 year or less   \n",
       "\n",
       "      years_pro_field                     education_level  \\\n",
       "8739     8 - 10 years                     Master's degree   \n",
       "10362   11 - 20 years                     Master's degree   \n",
       "12615    8 - 10 years  Professional degree (MD, JD, etc.)   \n",
       "13537     2 - 4 years                     Master's degree   \n",
       "15238  1 year or less                      College degree   \n",
       "\n",
       "                              gender                                race  \n",
       "8739                           Woman                               White  \n",
       "10362  Other or prefer not to answer                               White  \n",
       "12615                          Woman                               White  \n",
       "13537                          Woman  Middle Eastern or Northern African  \n",
       "15238                            Man             Asian or Asian American  "
      ]
     },
     "execution_count": 54,
     "metadata": {},
     "output_type": "execute_result"
    }
   ],
   "source": [
    "df.nsmallest(5,'annual_salary')"
   ]
  },
  {
   "cell_type": "markdown",
   "id": "1fbd0542",
   "metadata": {
    "id": "1fbd0542"
   },
   "source": [
    "## 6. Answering Analysis Questions"
   ]
  },
  {
   "cell_type": "markdown",
   "id": "e626e24b",
   "metadata": {
    "id": "e626e24b"
   },
   "source": [
    "1. Which industry pays the most?\n",
    "2. How does salary increase given years of professional experience?\n",
    "3. How much do salaries differ by gender and years of experience?\n",
    "4. How do  education level correlate with salary?\n",
    "5. How do salaries compare accross different states in the United States\n"
   ]
  },
  {
   "cell_type": "markdown",
   "id": "1cc914aa",
   "metadata": {
    "id": "1cc914aa"
   },
   "source": [
    "### 1. Which industry pays the most?"
   ]
  },
  {
   "cell_type": "markdown",
   "id": "67cd9651",
   "metadata": {
    "id": "67cd9651"
   },
   "source": [
    "To answer this question, we will consider industries that has 100 or more response to avoid bias. In this case, we will group by industry and take the average of annual salary"
   ]
  },
  {
   "cell_type": "code",
   "execution_count": 55,
   "id": "b4fced19",
   "metadata": {
    "id": "b4fced19"
   },
   "outputs": [],
   "source": [
    "#group by industries aggregate by mean of annual salary\n",
    "industry_salary = df.groupby('industrial_sector')[['annual_salary']].mean().sort_values(by='annual_salary', ascending = False)"
   ]
  },
  {
   "cell_type": "code",
   "execution_count": 56,
   "id": "44a90109",
   "metadata": {
    "colab": {
     "base_uri": "https://localhost:8080/",
     "height": 802
    },
    "executionInfo": {
     "elapsed": 59,
     "status": "ok",
     "timestamp": 1693479112893,
     "user": {
      "displayName": "Job Moses",
      "userId": "17792471584855643413"
     },
     "user_tz": -60
    },
    "id": "44a90109",
    "outputId": "0d74c9fd-9063-4d5c-bed4-c3f004813839"
   },
   "outputs": [
    {
     "data": {
      "text/html": [
       "<div>\n",
       "<style scoped>\n",
       "    .dataframe tbody tr th:only-of-type {\n",
       "        vertical-align: middle;\n",
       "    }\n",
       "\n",
       "    .dataframe tbody tr th {\n",
       "        vertical-align: top;\n",
       "    }\n",
       "\n",
       "    .dataframe thead th {\n",
       "        text-align: right;\n",
       "    }\n",
       "</style>\n",
       "<table border=\"1\" class=\"dataframe\">\n",
       "  <thead>\n",
       "    <tr style=\"text-align: right;\">\n",
       "      <th></th>\n",
       "      <th>industrial_sector</th>\n",
       "      <th>annual_salary</th>\n",
       "    </tr>\n",
       "  </thead>\n",
       "  <tbody>\n",
       "    <tr>\n",
       "      <th>0</th>\n",
       "      <td>Computing or Tech</td>\n",
       "      <td>129973.586854</td>\n",
       "    </tr>\n",
       "    <tr>\n",
       "      <th>1</th>\n",
       "      <td>Law</td>\n",
       "      <td>122023.577210</td>\n",
       "    </tr>\n",
       "    <tr>\n",
       "      <th>2</th>\n",
       "      <td>Business or Consulting</td>\n",
       "      <td>105330.382090</td>\n",
       "    </tr>\n",
       "    <tr>\n",
       "      <th>3</th>\n",
       "      <td>Sales</td>\n",
       "      <td>103636.097458</td>\n",
       "    </tr>\n",
       "    <tr>\n",
       "      <th>4</th>\n",
       "      <td>Entertainment</td>\n",
       "      <td>103400.881188</td>\n",
       "    </tr>\n",
       "    <tr>\n",
       "      <th>5</th>\n",
       "      <td>Engineering or Manufacturing</td>\n",
       "      <td>97788.533285</td>\n",
       "    </tr>\n",
       "    <tr>\n",
       "      <th>6</th>\n",
       "      <td>Health care</td>\n",
       "      <td>92127.034766</td>\n",
       "    </tr>\n",
       "    <tr>\n",
       "      <th>7</th>\n",
       "      <td>Accounting, Banking &amp; Finance</td>\n",
       "      <td>91522.498238</td>\n",
       "    </tr>\n",
       "    <tr>\n",
       "      <th>8</th>\n",
       "      <td>Utilities &amp; Telecommunications</td>\n",
       "      <td>91282.934615</td>\n",
       "    </tr>\n",
       "    <tr>\n",
       "      <th>9</th>\n",
       "      <td>Marketing, Advertising &amp; PR</td>\n",
       "      <td>90831.862967</td>\n",
       "    </tr>\n",
       "    <tr>\n",
       "      <th>10</th>\n",
       "      <td>Media &amp; Digital</td>\n",
       "      <td>86253.886288</td>\n",
       "    </tr>\n",
       "    <tr>\n",
       "      <th>11</th>\n",
       "      <td>Art &amp; Design</td>\n",
       "      <td>85667.802768</td>\n",
       "    </tr>\n",
       "    <tr>\n",
       "      <th>12</th>\n",
       "      <td>Insurance</td>\n",
       "      <td>85561.884615</td>\n",
       "    </tr>\n",
       "    <tr>\n",
       "      <th>13</th>\n",
       "      <td>Government and Public Administration</td>\n",
       "      <td>83843.542545</td>\n",
       "    </tr>\n",
       "    <tr>\n",
       "      <th>14</th>\n",
       "      <td>Recruitment or HR</td>\n",
       "      <td>80751.402036</td>\n",
       "    </tr>\n",
       "    <tr>\n",
       "      <th>15</th>\n",
       "      <td>Transport or Logistics</td>\n",
       "      <td>78604.289362</td>\n",
       "    </tr>\n",
       "    <tr>\n",
       "      <th>16</th>\n",
       "      <td>Agriculture or Forestry</td>\n",
       "      <td>74384.327273</td>\n",
       "    </tr>\n",
       "    <tr>\n",
       "      <th>17</th>\n",
       "      <td>Property or Construction</td>\n",
       "      <td>73601.600660</td>\n",
       "    </tr>\n",
       "    <tr>\n",
       "      <th>18</th>\n",
       "      <td>Nonprofits</td>\n",
       "      <td>73133.002889</td>\n",
       "    </tr>\n",
       "    <tr>\n",
       "      <th>19</th>\n",
       "      <td>Education (Higher Education)</td>\n",
       "      <td>68554.624194</td>\n",
       "    </tr>\n",
       "    <tr>\n",
       "      <th>20</th>\n",
       "      <td>Hospitality &amp; Events</td>\n",
       "      <td>67346.028571</td>\n",
       "    </tr>\n",
       "    <tr>\n",
       "      <th>21</th>\n",
       "      <td>Education (Primary/Secondary)</td>\n",
       "      <td>64412.356421</td>\n",
       "    </tr>\n",
       "    <tr>\n",
       "      <th>22</th>\n",
       "      <td>Retail</td>\n",
       "      <td>62059.776350</td>\n",
       "    </tr>\n",
       "    <tr>\n",
       "      <th>23</th>\n",
       "      <td>Social Work</td>\n",
       "      <td>56949.558952</td>\n",
       "    </tr>\n",
       "  </tbody>\n",
       "</table>\n",
       "</div>"
      ],
      "text/plain": [
       "                       industrial_sector  annual_salary\n",
       "0                      Computing or Tech  129973.586854\n",
       "1                                    Law  122023.577210\n",
       "2                 Business or Consulting  105330.382090\n",
       "3                                  Sales  103636.097458\n",
       "4                          Entertainment  103400.881188\n",
       "5           Engineering or Manufacturing   97788.533285\n",
       "6                            Health care   92127.034766\n",
       "7          Accounting, Banking & Finance   91522.498238\n",
       "8         Utilities & Telecommunications   91282.934615\n",
       "9            Marketing, Advertising & PR   90831.862967\n",
       "10                       Media & Digital   86253.886288\n",
       "11                          Art & Design   85667.802768\n",
       "12                             Insurance   85561.884615\n",
       "13  Government and Public Administration   83843.542545\n",
       "14                     Recruitment or HR   80751.402036\n",
       "15                Transport or Logistics   78604.289362\n",
       "16               Agriculture or Forestry   74384.327273\n",
       "17              Property or Construction   73601.600660\n",
       "18                            Nonprofits   73133.002889\n",
       "19          Education (Higher Education)   68554.624194\n",
       "20                  Hospitality & Events   67346.028571\n",
       "21         Education (Primary/Secondary)   64412.356421\n",
       "22                                Retail   62059.776350\n",
       "23                           Social Work   56949.558952"
      ]
     },
     "execution_count": 56,
     "metadata": {},
     "output_type": "execute_result"
    }
   ],
   "source": [
    "#filter industries with atleast 100 responses\n",
    "avg_annual_salary_by_industry = industry_salary.loc[df['industrial_sector'].value_counts() >= 100 ].reset_index()\n",
    "avg_annual_salary_by_industry"
   ]
  },
  {
   "cell_type": "code",
   "execution_count": 57,
   "id": "a3726259",
   "metadata": {
    "colab": {
     "base_uri": "https://localhost:8080/",
     "height": 603
    },
    "executionInfo": {
     "elapsed": 1948,
     "status": "ok",
     "timestamp": 1693479114786,
     "user": {
      "displayName": "Job Moses",
      "userId": "17792471584855643413"
     },
     "user_tz": -60
    },
    "id": "a3726259",
    "outputId": "202825ea-b632-40ac-89e4-f294fc00101e"
   },
   "outputs": [
    {
     "data": {
      "image/png": "[encoded data removed]",
      "text/plain": [
       "<Figure size 1000x600 with 1 Axes>"
      ]
     },
     "metadata": {},
     "output_type": "display_data"
    }
   ],
   "source": [
    "#plot\n",
    "plt.figure(figsize = (10,6))\n",
    "sns.barplot(data = avg_annual_salary_by_industry.head(10), x = 'annual_salary', y = 'industrial_sector', palette = 'viridis')\n",
    "plt.title('Industrial Sector')\n",
    "plt.xlabel('Average Annual Salary')\n",
    "plt.ylabel('Industrial Sectors')\n",
    "plt.xticks( rotation = 90);"
   ]
  },
  {
   "cell_type": "markdown",
   "id": "d1344ba8",
   "metadata": {
    "id": "d1344ba8"
   },
   "source": [
    "Top 5 highest paying industrial sector are in Computing or Tech, Law, Business or Consulting, Engineering or Manufacturing,Health care and Accounting, Banking & Finance"
   ]
  },
  {
   "cell_type": "markdown",
   "id": "50440991",
   "metadata": {
    "id": "50440991"
   },
   "source": [
    "### 2. How does salary increase given years of professional experience ?"
   ]
  },
  {
   "cell_type": "code",
   "execution_count": 58,
   "id": "7c631d87",
   "metadata": {
    "colab": {
     "base_uri": "https://localhost:8080/"
    },
    "executionInfo": {
     "elapsed": 135,
     "status": "ok",
     "timestamp": 1693479114790,
     "user": {
      "displayName": "Job Moses",
      "userId": "17792471584855643413"
     },
     "user_tz": -60
    },
    "id": "7c631d87",
    "outputId": "09aca9c6-7e30-4ab0-889d-984dfcb538c9"
   },
   "outputs": [
    {
     "name": "stdout",
     "output_type": "stream",
     "text": [
      "How many years of professional work experience do you have overall?\n"
     ]
    }
   ],
   "source": [
    "print(df_schema.years_pro)"
   ]
  },
  {
   "cell_type": "code",
   "execution_count": 59,
   "id": "a63aaa10",
   "metadata": {
    "colab": {
     "base_uri": "https://localhost:8080/"
    },
    "executionInfo": {
     "elapsed": 123,
     "status": "ok",
     "timestamp": 1693479114791,
     "user": {
      "displayName": "Job Moses",
      "userId": "17792471584855643413"
     },
     "user_tz": -60
    },
    "id": "a63aaa10",
    "outputId": "3144c501-1c3c-402b-ff00-867ca6778abd"
   },
   "outputs": [
    {
     "data": {
      "text/plain": [
       "array(['5-7 years', '2 - 4 years', '8 - 10 years', '21 - 30 years',\n",
       "       '11 - 20 years', '41 years or more', '31 - 40 years',\n",
       "       '1 year or less'], dtype=object)"
      ]
     },
     "execution_count": 59,
     "metadata": {},
     "output_type": "execute_result"
    }
   ],
   "source": [
    "df['years_pro'].unique()"
   ]
  },
  {
   "cell_type": "code",
   "execution_count": 60,
   "id": "17f1a9ab",
   "metadata": {
    "colab": {
     "base_uri": "https://localhost:8080/",
     "height": 1000
    },
    "executionInfo": {
     "elapsed": 109,
     "status": "ok",
     "timestamp": 1693479114793,
     "user": {
      "displayName": "Job Moses",
      "userId": "17792471584855643413"
     },
     "user_tz": -60
    },
    "id": "17f1a9ab",
    "outputId": "05816c53-c28e-4150-c09d-ae402e4aec30"
   },
   "outputs": [
    {
     "data": {
      "text/html": [
       "<div>\n",
       "<style scoped>\n",
       "    .dataframe tbody tr th:only-of-type {\n",
       "        vertical-align: middle;\n",
       "    }\n",
       "\n",
       "    .dataframe tbody tr th {\n",
       "        vertical-align: top;\n",
       "    }\n",
       "\n",
       "    .dataframe thead th {\n",
       "        text-align: right;\n",
       "    }\n",
       "</style>\n",
       "<table border=\"1\" class=\"dataframe\">\n",
       "  <thead>\n",
       "    <tr style=\"text-align: right;\">\n",
       "      <th></th>\n",
       "      <th>years_pro</th>\n",
       "      <th>annual_salary</th>\n",
       "      <th>index</th>\n",
       "      <th>pct_increase_prev_annual_salaray</th>\n",
       "    </tr>\n",
       "  </thead>\n",
       "  <tbody>\n",
       "    <tr>\n",
       "      <th>0</th>\n",
       "      <td>1 year or less</td>\n",
       "      <td>68727.833766</td>\n",
       "      <td>1</td>\n",
       "      <td>0.0%</td>\n",
       "    </tr>\n",
       "    <tr>\n",
       "      <th>1</th>\n",
       "      <td>2 - 4 years</td>\n",
       "      <td>70260.088324</td>\n",
       "      <td>2</td>\n",
       "      <td>2.0%</td>\n",
       "    </tr>\n",
       "    <tr>\n",
       "      <th>2</th>\n",
       "      <td>5-7 years</td>\n",
       "      <td>80594.919144</td>\n",
       "      <td>3</td>\n",
       "      <td>15.0%</td>\n",
       "    </tr>\n",
       "    <tr>\n",
       "      <th>3</th>\n",
       "      <td>8 - 10 years</td>\n",
       "      <td>89217.130323</td>\n",
       "      <td>4</td>\n",
       "      <td>11.0%</td>\n",
       "    </tr>\n",
       "    <tr>\n",
       "      <th>5</th>\n",
       "      <td>11 - 20 years</td>\n",
       "      <td>99204.686605</td>\n",
       "      <td>5</td>\n",
       "      <td>11.0%</td>\n",
       "    </tr>\n",
       "    <tr>\n",
       "      <th>6</th>\n",
       "      <td>21 - 30 years</td>\n",
       "      <td>106177.536924</td>\n",
       "      <td>6</td>\n",
       "      <td>7.0%</td>\n",
       "    </tr>\n",
       "    <tr>\n",
       "      <th>7</th>\n",
       "      <td>31 - 40 years</td>\n",
       "      <td>108971.390141</td>\n",
       "      <td>7</td>\n",
       "      <td>3.0%</td>\n",
       "    </tr>\n",
       "    <tr>\n",
       "      <th>4</th>\n",
       "      <td>41 years or more</td>\n",
       "      <td>97035.259259</td>\n",
       "      <td>8</td>\n",
       "      <td>-11.0%</td>\n",
       "    </tr>\n",
       "  </tbody>\n",
       "</table>\n",
       "</div>"
      ],
      "text/plain": [
       "          years_pro  annual_salary  index pct_increase_prev_annual_salaray\n",
       "0    1 year or less   68727.833766      1                             0.0%\n",
       "1       2 - 4 years   70260.088324      2                             2.0%\n",
       "2         5-7 years   80594.919144      3                            15.0%\n",
       "3      8 - 10 years   89217.130323      4                            11.0%\n",
       "5     11 - 20 years   99204.686605      5                            11.0%\n",
       "6     21 - 30 years  106177.536924      6                             7.0%\n",
       "7     31 - 40 years  108971.390141      7                             3.0%\n",
       "4  41 years or more   97035.259259      8                           -11.0%"
      ]
     },
     "execution_count": 60,
     "metadata": {},
     "output_type": "execute_result"
    }
   ],
   "source": [
    "#groupby year of professional experience and aggregaate by annual salary\n",
    "avg_salary_by_years_pro = df.groupby('years_pro')[['annual_salary']].mean().sort_values(by='annual_salary', ).reset_index()\n",
    "\n",
    "#create index for each group of professional experience his wil allow us to sort\n",
    "avg_salary_by_years_pro['index'] = avg_salary_by_years_pro['years_pro'].map({'1 year or less':1,'2 - 4 years':2,'5-7 years':3,'8 - 10 years':4,'11 - 20 years':5,'21 - 30 years':6,'31 - 40 years':7,'41 years or more':8})\n",
    "\n",
    "#sort by index\n",
    "avg_salary_by_years_pro = avg_salary_by_years_pro.sort_values(by ='index')\n",
    "\n",
    "#percentage change annual salary\n",
    "avg_salary_by_years_pro['pct_increase_prev_annual_salaray'] = round(avg_salary_by_years_pro['annual_salary'].pct_change()*100).fillna(0).astype(str) + '%'\n",
    "\n",
    "avg_salary_by_years_pro"
   ]
  },
  {
   "cell_type": "code",
   "execution_count": 61,
   "id": "e593d5ae",
   "metadata": {
    "colab": {
     "base_uri": "https://localhost:8080/"
    },
    "executionInfo": {
     "elapsed": 109,
     "status": "ok",
     "timestamp": 1693479114796,
     "user": {
      "displayName": "Job Moses",
      "userId": "17792471584855643413"
     },
     "user_tz": -60
    },
    "id": "e593d5ae",
    "outputId": "d81e9fe4-bff0-427f-9cfb-6b50106ad2cb"
   },
   "outputs": [
    {
     "data": {
      "text/plain": [
       "array(['1 year or less', '2 - 4 years', '5-7 years', '8 - 10 years',\n",
       "       '11 - 20 years', '21 - 30 years', '31 - 40 years',\n",
       "       '41 years or more'], dtype=object)"
      ]
     },
     "execution_count": 61,
     "metadata": {},
     "output_type": "execute_result"
    }
   ],
   "source": [
    "avg_salary_by_years_pro['years_pro'].unique()"
   ]
  },
  {
   "cell_type": "code",
   "execution_count": 62,
   "id": "3ab8bf71",
   "metadata": {
    "colab": {
     "base_uri": "https://localhost:8080/",
     "height": 589
    },
    "executionInfo": {
     "elapsed": 98,
     "status": "ok",
     "timestamp": 1693479114797,
     "user": {
      "displayName": "Job Moses",
      "userId": "17792471584855643413"
     },
     "user_tz": -60
    },
    "id": "3ab8bf71",
    "outputId": "99daf681-588f-4e2f-9128-179419494bf8"
   },
   "outputs": [
    {
     "data": {
      "image/png": "[encoded data removed]",
      "text/plain": [
       "<Figure size 800x500 with 1 Axes>"
      ]
     },
     "metadata": {},
     "output_type": "display_data"
    }
   ],
   "source": [
    "plt.figure(figsize = (8,5))\n",
    "plt.xticks(rotation = 80)\n",
    "plt.title( label = 'PERCENTAGE INCREASE IN SALARY BY YEARS OF PROFESSIONAL EXPERIENCE', fontsize = 9)\n",
    "ax = sns.barplot(data = avg_salary_by_years_pro, x = 'years_pro', y = 'annual_salary' )\n",
    "plt.xlabel('years of professional experience')\n",
    "plt.ylabel('Average annual salary')\n",
    "ax.bar_label(container = ax.containers[0], labels = avg_salary_by_years_pro.pct_increase_prev_annual_salaray );"
   ]
  },
  {
   "cell_type": "markdown",
   "id": "40c2da3a",
   "metadata": {
    "id": "40c2da3a"
   },
   "source": [
    "There is a cummulative increase in annual salary by 54% between 2years of professional experience to 40 years of professional experience. Respondents received a pay increase of 2% at early stage of professional experience(2-4 years), but at 5-7 years there is a major increase of 15% from initaial  annual salary of 2-4 years. Annual salry continue to increase until it reaches it peak at 31- 40 years of professsional experience, after which it see a decrease of 11% at age 41 or more of professional experience"
   ]
  },
  {
   "cell_type": "markdown",
   "id": "ee33fbe2",
   "metadata": {
    "id": "ee33fbe2"
   },
   "source": [
    "### 3. How do salary compare for different education level"
   ]
  },
  {
   "cell_type": "code",
   "execution_count": 63,
   "id": "b9024de1",
   "metadata": {
    "colab": {
     "base_uri": "https://localhost:8080/",
     "height": 698
    },
    "executionInfo": {
     "elapsed": 97,
     "status": "ok",
     "timestamp": 1693479114800,
     "user": {
      "displayName": "Job Moses",
      "userId": "17792471584855643413"
     },
     "user_tz": -60
    },
    "id": "b9024de1",
    "outputId": "8df733d5-cceb-4ef6-b4dd-d95f0de37735"
   },
   "outputs": [
    {
     "data": {
      "image/png": "[encoded data removed]",
      "text/plain": [
       "<Figure size 1200x500 with 1 Axes>"
      ]
     },
     "metadata": {},
     "output_type": "display_data"
    }
   ],
   "source": [
    "plt.figure(figsize = (12,5))\n",
    "sns.violinplot(data = df , x = 'education_level', y = 'annual_salary')\n",
    "plt.xticks( rotation = 80);"
   ]
  },
  {
   "cell_type": "markdown",
   "id": "bd447eb9",
   "metadata": {
    "id": "bd447eb9"
   },
   "source": [
    "annual salary increase increases with higher education level, Professional degree receives a fat salary, followed by Ph.D., Master's degree, college degree and so on"
   ]
  },
  {
   "cell_type": "markdown",
   "id": "ee51dc83",
   "metadata": {
    "id": "ee51dc83"
   },
   "source": [
    " ### 4. How do wages compare among gender with same professional experience ?"
   ]
  },
  {
   "cell_type": "code",
   "execution_count": 64,
   "id": "84c5b4e8",
   "metadata": {
    "id": "84c5b4e8"
   },
   "outputs": [],
   "source": [
    " ## let pivot years_pro against gender and annual salary as values, we will agregate by mean\n",
    "salary_by_gender = df.pivot_table(index='years_pro',columns='gender', values='annual_salary', aggfunc='mean').reset_index()"
   ]
  },
  {
   "cell_type": "code",
   "execution_count": 65,
   "id": "a13bc9bd",
   "metadata": {
    "colab": {
     "base_uri": "https://localhost:8080/",
     "height": 300
    },
    "executionInfo": {
     "elapsed": 95,
     "status": "ok",
     "timestamp": 1693479114805,
     "user": {
      "displayName": "Job Moses",
      "userId": "17792471584855643413"
     },
     "user_tz": -60
    },
    "id": "a13bc9bd",
    "outputId": "c9bfae74-cb9c-49ec-88b6-c9aa69580eba"
   },
   "outputs": [
    {
     "data": {
      "text/html": [
       "<div>\n",
       "<style scoped>\n",
       "    .dataframe tbody tr th:only-of-type {\n",
       "        vertical-align: middle;\n",
       "    }\n",
       "\n",
       "    .dataframe tbody tr th {\n",
       "        vertical-align: top;\n",
       "    }\n",
       "\n",
       "    .dataframe thead th {\n",
       "        text-align: right;\n",
       "    }\n",
       "</style>\n",
       "<table border=\"1\" class=\"dataframe\">\n",
       "  <thead>\n",
       "    <tr style=\"text-align: right;\">\n",
       "      <th>gender</th>\n",
       "      <th>years_pro</th>\n",
       "      <th>Man</th>\n",
       "      <th>Non-binary</th>\n",
       "      <th>Other or prefer not to answer</th>\n",
       "      <th>Prefer not to answer</th>\n",
       "      <th>Woman</th>\n",
       "      <th>index</th>\n",
       "      <th>pct_index_men_to_women</th>\n",
       "    </tr>\n",
       "  </thead>\n",
       "  <tbody>\n",
       "    <tr>\n",
       "      <th>0</th>\n",
       "      <td>1 year or less</td>\n",
       "      <td>69415.678571</td>\n",
       "      <td>47104.250000</td>\n",
       "      <td>76550.000000</td>\n",
       "      <td>88000.0</td>\n",
       "      <td>69526.370504</td>\n",
       "      <td>1</td>\n",
       "      <td>0.998408</td>\n",
       "    </tr>\n",
       "    <tr>\n",
       "      <th>2</th>\n",
       "      <td>2 - 4 years</td>\n",
       "      <td>81302.789346</td>\n",
       "      <td>61204.394737</td>\n",
       "      <td>73840.545455</td>\n",
       "      <td>NaN</td>\n",
       "      <td>68224.503386</td>\n",
       "      <td>2</td>\n",
       "      <td>1.191695</td>\n",
       "    </tr>\n",
       "    <tr>\n",
       "      <th>6</th>\n",
       "      <td>5-7 years</td>\n",
       "      <td>96002.178849</td>\n",
       "      <td>63467.469512</td>\n",
       "      <td>71924.358974</td>\n",
       "      <td>NaN</td>\n",
       "      <td>78332.598394</td>\n",
       "      <td>3</td>\n",
       "      <td>1.225571</td>\n",
       "    </tr>\n",
       "    <tr>\n",
       "      <th>7</th>\n",
       "      <td>8 - 10 years</td>\n",
       "      <td>109590.447482</td>\n",
       "      <td>70177.008264</td>\n",
       "      <td>91080.971429</td>\n",
       "      <td>NaN</td>\n",
       "      <td>85757.804991</td>\n",
       "      <td>4</td>\n",
       "      <td>1.277906</td>\n",
       "    </tr>\n",
       "    <tr>\n",
       "      <th>1</th>\n",
       "      <td>11 - 20 years</td>\n",
       "      <td>124750.540577</td>\n",
       "      <td>89266.448529</td>\n",
       "      <td>100351.281690</td>\n",
       "      <td>NaN</td>\n",
       "      <td>93194.455436</td>\n",
       "      <td>5</td>\n",
       "      <td>1.338605</td>\n",
       "    </tr>\n",
       "    <tr>\n",
       "      <th>3</th>\n",
       "      <td>21 - 30 years</td>\n",
       "      <td>138347.198068</td>\n",
       "      <td>97722.794118</td>\n",
       "      <td>106978.787879</td>\n",
       "      <td>NaN</td>\n",
       "      <td>97468.906360</td>\n",
       "      <td>6</td>\n",
       "      <td>1.419398</td>\n",
       "    </tr>\n",
       "    <tr>\n",
       "      <th>4</th>\n",
       "      <td>31 - 40 years</td>\n",
       "      <td>132562.527397</td>\n",
       "      <td>NaN</td>\n",
       "      <td>168172.727273</td>\n",
       "      <td>NaN</td>\n",
       "      <td>101565.385172</td>\n",
       "      <td>7</td>\n",
       "      <td>1.305194</td>\n",
       "    </tr>\n",
       "    <tr>\n",
       "      <th>5</th>\n",
       "      <td>41 years or more</td>\n",
       "      <td>117033.612903</td>\n",
       "      <td>NaN</td>\n",
       "      <td>105000.000000</td>\n",
       "      <td>NaN</td>\n",
       "      <td>88556.880000</td>\n",
       "      <td>8</td>\n",
       "      <td>1.321564</td>\n",
       "    </tr>\n",
       "  </tbody>\n",
       "</table>\n",
       "</div>"
      ],
      "text/plain": [
       "gender         years_pro            Man    Non-binary  \\\n",
       "0         1 year or less   69415.678571  47104.250000   \n",
       "2            2 - 4 years   81302.789346  61204.394737   \n",
       "6              5-7 years   96002.178849  63467.469512   \n",
       "7           8 - 10 years  109590.447482  70177.008264   \n",
       "1          11 - 20 years  124750.540577  89266.448529   \n",
       "3          21 - 30 years  138347.198068  97722.794118   \n",
       "4          31 - 40 years  132562.527397           NaN   \n",
       "5       41 years or more  117033.612903           NaN   \n",
       "\n",
       "gender  Other or prefer not to answer  Prefer not to answer          Woman  \\\n",
       "0                        76550.000000               88000.0   69526.370504   \n",
       "2                        73840.545455                   NaN   68224.503386   \n",
       "6                        71924.358974                   NaN   78332.598394   \n",
       "7                        91080.971429                   NaN   85757.804991   \n",
       "1                       100351.281690                   NaN   93194.455436   \n",
       "3                       106978.787879                   NaN   97468.906360   \n",
       "4                       168172.727273                   NaN  101565.385172   \n",
       "5                       105000.000000                   NaN   88556.880000   \n",
       "\n",
       "gender  index  pct_index_men_to_women  \n",
       "0           1                0.998408  \n",
       "2           2                1.191695  \n",
       "6           3                1.225571  \n",
       "7           4                1.277906  \n",
       "1           5                1.338605  \n",
       "3           6                1.419398  \n",
       "4           7                1.305194  \n",
       "5           8                1.321564  "
      ]
     },
     "execution_count": 65,
     "metadata": {},
     "output_type": "execute_result"
    }
   ],
   "source": [
    "salary_by_gender['index'] = salary_by_gender['years_pro'].map({'1 year or less':1,'2 - 4 years':2,'5-7 years':3,'8 - 10 years':4,'11 - 20 years':5,'21 - 30 years':6,'31 - 40 years':7,'41 years or more':8})\n",
    "salary_by_gender = salary_by_gender.sort_values(by ='index')\n",
    "salary_by_gender['pct_index_men_to_women'] = salary_by_gender['Man']/salary_by_gender['Woman']\n",
    "salary_by_gender"
   ]
  },
  {
   "cell_type": "code",
   "execution_count": 66,
   "id": "9a940b21",
   "metadata": {
    "colab": {
     "base_uri": "https://localhost:8080/",
     "height": 574
    },
    "executionInfo": {
     "elapsed": 92,
     "status": "ok",
     "timestamp": 1693479114806,
     "user": {
      "displayName": "Job Moses",
      "userId": "17792471584855643413"
     },
     "user_tz": -60
    },
    "id": "9a940b21",
    "outputId": "3ad74141-c727-485c-9584-d4f381874621"
   },
   "outputs": [
    {
     "data": {
      "text/plain": [
       "<Figure size 1000x500 with 0 Axes>"
      ]
     },
     "metadata": {},
     "output_type": "display_data"
    },
    {
     "data": {
      "image/png": "[encoded data removed]",
      "text/plain": [
       "<Figure size 640x480 with 1 Axes>"
      ]
     },
     "metadata": {},
     "output_type": "display_data"
    }
   ],
   "source": [
    "plt.figure(figsize = (10,5))\n",
    "\n",
    "salary_by_gender[['Man','Woman','Non-binary']].plot(kind = 'bar')\n",
    "plt.xticks( [ r for r in range( len(salary_by_gender['years_pro']))], ['1 year or less','2 - 4 years','5-7 years','8 - 10 years','11 - 20 years','21 - 30 years','31 - 40 years','41 years or more'] )\n",
    "plt.title('Average Annual Salary by Gender and Professional Experience')\n",
    "plt.ylabel('Average_annual_salary');\n"
   ]
  },
  {
   "cell_type": "markdown",
   "id": "32047594",
   "metadata": {
    "id": "32047594"
   },
   "source": [
    "At 1 year or less there is no clear difference between average salary of women to men except for binary gender, Men ends higher pay from 2years of professional experience than other gender with same professional experience."
   ]
  },
  {
   "cell_type": "markdown",
   "id": "6f85c7a9",
   "metadata": {
    "id": "6f85c7a9"
   },
   "source": [
    "### 5. How do wages  across different states compare?"
   ]
  },
  {
   "cell_type": "markdown",
   "id": "16f68cb0",
   "metadata": {
    "id": "16f68cb0"
   },
   "source": [
    "here we will consider states where there is 50 or more resonses to avoid selection bias"
   ]
  },
  {
   "cell_type": "code",
   "execution_count": 67,
   "id": "d318a430",
   "metadata": {
    "id": "d318a430"
   },
   "outputs": [],
   "source": [
    "Annual_salary_by_state = df.groupby('state_in_us')[['annual_salary']].mean().sort_values(by='annual_salary',ascending = False )"
   ]
  },
  {
   "cell_type": "code",
   "execution_count": 68,
   "id": "18587056",
   "metadata": {
    "colab": {
     "base_uri": "https://localhost:8080/",
     "height": 1000
    },
    "executionInfo": {
     "elapsed": 88,
     "status": "ok",
     "timestamp": 1693479114809,
     "user": {
      "displayName": "Job Moses",
      "userId": "17792471584855643413"
     },
     "user_tz": -60
    },
    "id": "18587056",
    "outputId": "6e7b2d84-7538-444b-b57d-69ec80601b57"
   },
   "outputs": [
    {
     "data": {
      "text/html": [
       "<div>\n",
       "<style scoped>\n",
       "    .dataframe tbody tr th:only-of-type {\n",
       "        vertical-align: middle;\n",
       "    }\n",
       "\n",
       "    .dataframe tbody tr th {\n",
       "        vertical-align: top;\n",
       "    }\n",
       "\n",
       "    .dataframe thead th {\n",
       "        text-align: right;\n",
       "    }\n",
       "</style>\n",
       "<table border=\"1\" class=\"dataframe\">\n",
       "  <thead>\n",
       "    <tr style=\"text-align: right;\">\n",
       "      <th></th>\n",
       "      <th>state_in_us</th>\n",
       "      <th>annual_salary</th>\n",
       "    </tr>\n",
       "  </thead>\n",
       "  <tbody>\n",
       "    <tr>\n",
       "      <th>0</th>\n",
       "      <td>California</td>\n",
       "      <td>114671.583627</td>\n",
       "    </tr>\n",
       "    <tr>\n",
       "      <th>1</th>\n",
       "      <td>Washington</td>\n",
       "      <td>108373.723478</td>\n",
       "    </tr>\n",
       "    <tr>\n",
       "      <th>2</th>\n",
       "      <td>New York</td>\n",
       "      <td>105410.339471</td>\n",
       "    </tr>\n",
       "    <tr>\n",
       "      <th>3</th>\n",
       "      <td>District Of Columbia</td>\n",
       "      <td>104932.980331</td>\n",
       "    </tr>\n",
       "    <tr>\n",
       "      <th>4</th>\n",
       "      <td>New Jersey</td>\n",
       "      <td>102110.502551</td>\n",
       "    </tr>\n",
       "    <tr>\n",
       "      <th>5</th>\n",
       "      <td>Massachusetts</td>\n",
       "      <td>98541.637652</td>\n",
       "    </tr>\n",
       "    <tr>\n",
       "      <th>6</th>\n",
       "      <td>Connecticut</td>\n",
       "      <td>94134.099567</td>\n",
       "    </tr>\n",
       "    <tr>\n",
       "      <th>7</th>\n",
       "      <td>Virginia</td>\n",
       "      <td>92933.635065</td>\n",
       "    </tr>\n",
       "    <tr>\n",
       "      <th>8</th>\n",
       "      <td>Illinois</td>\n",
       "      <td>90586.371160</td>\n",
       "    </tr>\n",
       "    <tr>\n",
       "      <th>9</th>\n",
       "      <td>Colorado</td>\n",
       "      <td>90166.287781</td>\n",
       "    </tr>\n",
       "    <tr>\n",
       "      <th>10</th>\n",
       "      <td>Maryland</td>\n",
       "      <td>89514.181982</td>\n",
       "    </tr>\n",
       "    <tr>\n",
       "      <th>11</th>\n",
       "      <td>Oregon</td>\n",
       "      <td>88734.376623</td>\n",
       "    </tr>\n",
       "    <tr>\n",
       "      <th>12</th>\n",
       "      <td>Texas</td>\n",
       "      <td>88730.617384</td>\n",
       "    </tr>\n",
       "    <tr>\n",
       "      <th>13</th>\n",
       "      <td>Georgia</td>\n",
       "      <td>86925.236742</td>\n",
       "    </tr>\n",
       "    <tr>\n",
       "      <th>14</th>\n",
       "      <td>Utah</td>\n",
       "      <td>83563.946078</td>\n",
       "    </tr>\n",
       "    <tr>\n",
       "      <th>15</th>\n",
       "      <td>Pennsylvania</td>\n",
       "      <td>83390.338378</td>\n",
       "    </tr>\n",
       "    <tr>\n",
       "      <th>16</th>\n",
       "      <td>New Mexico</td>\n",
       "      <td>82743.762887</td>\n",
       "    </tr>\n",
       "    <tr>\n",
       "      <th>17</th>\n",
       "      <td>Minnesota</td>\n",
       "      <td>81645.842330</td>\n",
       "    </tr>\n",
       "    <tr>\n",
       "      <th>18</th>\n",
       "      <td>Nevada</td>\n",
       "      <td>81185.370787</td>\n",
       "    </tr>\n",
       "    <tr>\n",
       "      <th>19</th>\n",
       "      <td>North Carolina</td>\n",
       "      <td>81024.069610</td>\n",
       "    </tr>\n",
       "    <tr>\n",
       "      <th>20</th>\n",
       "      <td>Arizona</td>\n",
       "      <td>80306.436482</td>\n",
       "    </tr>\n",
       "    <tr>\n",
       "      <th>21</th>\n",
       "      <td>Florida</td>\n",
       "      <td>77790.913894</td>\n",
       "    </tr>\n",
       "    <tr>\n",
       "      <th>22</th>\n",
       "      <td>Rhode Island</td>\n",
       "      <td>77301.973684</td>\n",
       "    </tr>\n",
       "    <tr>\n",
       "      <th>23</th>\n",
       "      <td>Alaska</td>\n",
       "      <td>77101.615385</td>\n",
       "    </tr>\n",
       "    <tr>\n",
       "      <th>24</th>\n",
       "      <td>Michigan</td>\n",
       "      <td>77074.680891</td>\n",
       "    </tr>\n",
       "    <tr>\n",
       "      <th>25</th>\n",
       "      <td>Arkansas</td>\n",
       "      <td>76864.228571</td>\n",
       "    </tr>\n",
       "    <tr>\n",
       "      <th>26</th>\n",
       "      <td>Wisconsin</td>\n",
       "      <td>76441.098039</td>\n",
       "    </tr>\n",
       "    <tr>\n",
       "      <th>27</th>\n",
       "      <td>Tennessee</td>\n",
       "      <td>76018.359712</td>\n",
       "    </tr>\n",
       "    <tr>\n",
       "      <th>28</th>\n",
       "      <td>Ohio</td>\n",
       "      <td>75849.396552</td>\n",
       "    </tr>\n",
       "    <tr>\n",
       "      <th>29</th>\n",
       "      <td>Missouri</td>\n",
       "      <td>74970.675676</td>\n",
       "    </tr>\n",
       "    <tr>\n",
       "      <th>30</th>\n",
       "      <td>Louisiana</td>\n",
       "      <td>73501.992126</td>\n",
       "    </tr>\n",
       "    <tr>\n",
       "      <th>31</th>\n",
       "      <td>Indiana</td>\n",
       "      <td>72721.369906</td>\n",
       "    </tr>\n",
       "    <tr>\n",
       "      <th>32</th>\n",
       "      <td>New Hampshire</td>\n",
       "      <td>72513.929204</td>\n",
       "    </tr>\n",
       "    <tr>\n",
       "      <th>33</th>\n",
       "      <td>Alabama</td>\n",
       "      <td>72011.550000</td>\n",
       "    </tr>\n",
       "    <tr>\n",
       "      <th>34</th>\n",
       "      <td>Nebraska</td>\n",
       "      <td>71736.715596</td>\n",
       "    </tr>\n",
       "    <tr>\n",
       "      <th>35</th>\n",
       "      <td>Kansas</td>\n",
       "      <td>71728.092105</td>\n",
       "    </tr>\n",
       "    <tr>\n",
       "      <th>36</th>\n",
       "      <td>Vermont</td>\n",
       "      <td>71166.060606</td>\n",
       "    </tr>\n",
       "    <tr>\n",
       "      <th>37</th>\n",
       "      <td>Idaho</td>\n",
       "      <td>70439.804124</td>\n",
       "    </tr>\n",
       "    <tr>\n",
       "      <th>38</th>\n",
       "      <td>Iowa</td>\n",
       "      <td>68992.325843</td>\n",
       "    </tr>\n",
       "    <tr>\n",
       "      <th>39</th>\n",
       "      <td>Kentucky</td>\n",
       "      <td>66263.781915</td>\n",
       "    </tr>\n",
       "    <tr>\n",
       "      <th>40</th>\n",
       "      <td>Oklahoma</td>\n",
       "      <td>66248.410714</td>\n",
       "    </tr>\n",
       "    <tr>\n",
       "      <th>41</th>\n",
       "      <td>South Carolina</td>\n",
       "      <td>65686.737931</td>\n",
       "    </tr>\n",
       "    <tr>\n",
       "      <th>42</th>\n",
       "      <td>Maine</td>\n",
       "      <td>65045.620968</td>\n",
       "    </tr>\n",
       "    <tr>\n",
       "      <th>43</th>\n",
       "      <td>Mississippi</td>\n",
       "      <td>62508.800000</td>\n",
       "    </tr>\n",
       "    <tr>\n",
       "      <th>44</th>\n",
       "      <td>Montana</td>\n",
       "      <td>59456.142857</td>\n",
       "    </tr>\n",
       "  </tbody>\n",
       "</table>\n",
       "</div>"
      ],
      "text/plain": [
       "             state_in_us  annual_salary\n",
       "0             California  114671.583627\n",
       "1             Washington  108373.723478\n",
       "2               New York  105410.339471\n",
       "3   District Of Columbia  104932.980331\n",
       "4             New Jersey  102110.502551\n",
       "5          Massachusetts   98541.637652\n",
       "6            Connecticut   94134.099567\n",
       "7               Virginia   92933.635065\n",
       "8               Illinois   90586.371160\n",
       "9               Colorado   90166.287781\n",
       "10              Maryland   89514.181982\n",
       "11                Oregon   88734.376623\n",
       "12                 Texas   88730.617384\n",
       "13               Georgia   86925.236742\n",
       "14                  Utah   83563.946078\n",
       "15          Pennsylvania   83390.338378\n",
       "16            New Mexico   82743.762887\n",
       "17             Minnesota   81645.842330\n",
       "18                Nevada   81185.370787\n",
       "19        North Carolina   81024.069610\n",
       "20               Arizona   80306.436482\n",
       "21               Florida   77790.913894\n",
       "22          Rhode Island   77301.973684\n",
       "23                Alaska   77101.615385\n",
       "24              Michigan   77074.680891\n",
       "25              Arkansas   76864.228571\n",
       "26             Wisconsin   76441.098039\n",
       "27             Tennessee   76018.359712\n",
       "28                  Ohio   75849.396552\n",
       "29              Missouri   74970.675676\n",
       "30             Louisiana   73501.992126\n",
       "31               Indiana   72721.369906\n",
       "32         New Hampshire   72513.929204\n",
       "33               Alabama   72011.550000\n",
       "34              Nebraska   71736.715596\n",
       "35                Kansas   71728.092105\n",
       "36               Vermont   71166.060606\n",
       "37                 Idaho   70439.804124\n",
       "38                  Iowa   68992.325843\n",
       "39              Kentucky   66263.781915\n",
       "40              Oklahoma   66248.410714\n",
       "41        South Carolina   65686.737931\n",
       "42                 Maine   65045.620968\n",
       "43           Mississippi   62508.800000\n",
       "44               Montana   59456.142857"
      ]
     },
     "execution_count": 68,
     "metadata": {},
     "output_type": "execute_result"
    }
   ],
   "source": [
    "Annual_salary_by_state = Annual_salary_by_state.loc[df.state_in_us.value_counts()>=50].reset_index()\n",
    "Annual_salary_by_state"
   ]
  },
  {
   "cell_type": "code",
   "execution_count": 69,
   "id": "ccbf19f7",
   "metadata": {
    "colab": {
     "base_uri": "https://localhost:8080/",
     "height": 603
    },
    "executionInfo": {
     "elapsed": 86,
     "status": "ok",
     "timestamp": 1693479114811,
     "user": {
      "displayName": "Job Moses",
      "userId": "17792471584855643413"
     },
     "user_tz": -60
    },
    "id": "ccbf19f7",
    "outputId": "4e3ca717-86ca-4821-b18f-8b3a30db6740"
   },
   "outputs": [
    {
     "data": {
      "image/png": "[encoded data removed]",
      "text/plain": [
       "<Figure size 900x600 with 1 Axes>"
      ]
     },
     "metadata": {},
     "output_type": "display_data"
    }
   ],
   "source": [
    "plt.figure(figsize = (9,6))\n",
    "sns.barplot(data = Annual_salary_by_state.head(10), x= 'annual_salary', y = 'state_in_us', palette = 'viridis')\n",
    "plt.title('Industrial Sector')\n",
    "plt.xlabel('Average Annual Salary')\n",
    "plt.ylabel('Average Annual Salary by States')\n",
    "plt.xticks( rotation = 90);"
   ]
  },
  {
   "cell_type": "markdown",
   "id": "bf5ad207",
   "metadata": {
    "id": "bf5ad207"
   },
   "source": [
    "Top Three states in United state with higher average salary are California, Washington and New york"
   ]
  },
  {
   "cell_type": "markdown",
   "id": "e183eee6",
   "metadata": {
    "id": "e183eee6"
   },
   "source": [
    "## Inferences"
   ]
  },
  {
   "cell_type": "markdown",
   "id": "5b0b4a07",
   "metadata": {
    "id": "5b0b4a07"
   },
   "source": [
    "**Executive Summary: Key Insights from Survey Data Analysis**\n",
    "\n",
    "This executive summary provides a comprehensive overview of the survey. The following key insights emerge from the analysis:\n",
    "\n",
    "1. **Dataset Overview:**\n",
    "  27,952 respondents across various demographics and industries. The dataset is diverse, containing 16 data columns featuring  essential information such as respondent location, gender, professional experience, education level, and annual salary.\n",
    "\n",
    "2. **Geographical Distribution:**\n",
    "   Out of the total respondents, a significant majority (82%) are from the United States, totaling 22,431 participants. This concentration justifies the focus of the analysis on the U.S. market.\n",
    "\n",
    "3. **U.S. Industry and Salary Insights:**\n",
    "   Within the United States, 22,431 respondents represent various industries. The average annual salary is $91.8k, with a range from 0 to 5 million USD. A considerable portion (50%) hold college degrees, and the most common experience bracket is 11-20 years. Gender diversity is notable, with a substantial female representation.\n",
    "\n",
    "4. **Regional Concentration:**\n",
    "   The states of California and New York are home to 20% of the respondents each, indicating significant industrial activity in these regions.\n",
    "\n",
    "5. **Industry Distribution:**\n",
    "   The Computer/Tech sector is the largest, with 16% of respondents, followed by Non-profit, Higher Education, Healthcare, and Finance, collectively constituting 30% of respondents.\n",
    "\n",
    "6. **Age Profile:**\n",
    "   The majority of respondents fall within the 25-44 age range, indicating a productive and active workforce.\n",
    "\n",
    "7. **Gender Diversity:**\n",
    "   Women constitute 78% of the survey's U.S. respondents, with other genders comprising the remaining 28%.\n",
    "\n",
    "8. **Education and Experience:**\n",
    "   A substantial 81% of respondents hold either a college or master's degree. Most respondents have higher professional experience, suggesting an early career start.\n",
    "\n",
    "9. **High-Paying Sectors:**\n",
    "   The top-paying industries include Computing/Tech, Law, Business/Consulting, Engineering/Manufacturing, Healthcare, and Accounting/Banking & Finance.\n",
    "   \n",
    "10. **High-Paying Sectors:**\n",
    "There is a cummulative increase in annual salary by 54% between 2years of professional experience to 40 years of professional experience. Respondents received a pay increase of 2% at early stage of professional experience(2-4 years), but at 5-7 years there is a major increase of 15% from initaial annual salary of 2-4 years. Annual salry continue to increase until it reaches it peak at 31- 40 years of professsional experience, after which it see a decrease of 11% at age 41 or more of professional experience\n",
    "\n",
    "11. **Salary by Education:**\n",
    "   A clear correlation exists between education and salary, with professional degrees leading to the highest salaries, followed by Ph.D., master's, and college degrees.\n",
    "\n",
    "12. **Salary by Gender and Professional Experience:**\n",
    "   In the initial year, gender-based salary differences are minimal. However, male respondents start earning higher salaries from the second year of professional experience compared to other genders.\n",
    "\n",
    "13. **Top-Paying States:**\n",
    "    California, Washington, and New York are the top three states with the highest average salaries.\n",
    "\n",
    "These insights highlight the dynamics of the surveyed workforce, emphasizing trends in industry concentration, educational attainment, salary progression, and regional variations. Organizations and policymakers can leverage these findings to make informed decisions and tailor strategies that cater to the specific needs of the surveyed population."
   ]
  },
  {
   "cell_type": "markdown",
   "id": "306d34ca",
   "metadata": {
    "id": "306d34ca"
   },
   "source": [
    "1. A total of 27952 responndent partook in the Ask A Manager Salary survey,\n",
    "2. out of 27952 responses, 22943 respondents are from the United States, this implies that 82% of the total respondents are from the United State. After Data cleaning 22431 responses was use for the analysis.\n",
    "3. There are 22431 respondents who worked in different indusrial sectors in the United States. Respondents earn an Average annual salary of 91.8k US dollars, ranginging from 0 USD mininum to 5 million USD maximum. 50% of Survey respondents have completed a colledge degree. 11 -20 years of professional experience in field and overall professional experience are mostly common. Women gender represent a significant percentae of survey respondents.\n",
    "4. 20% of survey respondents worked in California and New York\n",
    "5. 16% of respondents worked in computer or Tech industry which is highest, Non-profit, Also a significant number of respondent worked in Non-profit, Higher education , healthcare and Finance which constitute about 30% of total respondents\n",
    "6. Majority of survey Respondents are between age 25- 44 years\n",
    "7. 78 percents of survey Respondents are women while other genders constitute 28 percent of the survey respondents from U.S\n",
    "8. 81% have completed either a college degree or a master degree\n",
    "9. Majority of Respondents have higher experience in their professional field, this implies that they started their career early in their field\n",
    "10. Top 5 highest paying industrial sector are in Computing or Tech, Law, Business or Consulting, Engineering or Manufacturing,Health care and Accounting, Banking & Finance\n",
    "11. annual salary increase increases with higher education level, Professional degree receives a fat salary, followed by Ph.D., Master's degree, college degree and so on\n",
    "12. At 1 year or less there is no clear difference between average salary of women to men except for binary gender, Men ends higher pay from 2years of professional experience than other gender with same professional experience.\n",
    "13. Top Three states in United state with higher average salary are California, Washington and New york\n"
   ]
  },
  {
   "cell_type": "code",
   "execution_count": null,
   "id": "397253bc",
   "metadata": {
    "id": "397253bc"
   },
   "outputs": [],
   "source": []
  }
 ],
 "metadata": {
  "colab": {
   "provenance": []
  },
  "kernelspec": {
   "display_name": "Python 3 (ipykernel)",
   "language": "python",
   "name": "python3"
  },
  "language_info": {
   "codemirror_mode": {
    "name": "ipython",
    "version": 3
   },
   "file_extension": ".py",
   "mimetype": "text/x-python",
   "name": "python",
   "nbconvert_exporter": "python",
   "pygments_lexer": "ipython3",
   "version": "3.11.5"
  }
 },
 "nbformat": 4,
 "nbformat_minor": 5
}
